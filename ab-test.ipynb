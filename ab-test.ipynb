{
 "cells": [
  {
   "cell_type": "markdown",
   "metadata": {},
   "source": [
    "# Принятие решений в бизнесе на основе анализа A/B-теста\n",
    "\n",
    "**Заказчик исследования:** отдел маркетинга крупного интернет-магазина.\n",
    "\n",
    "**Цель исследования:** приоритизировать гипотезы, запустить A/B-тест и проанализировать результаты, которые будут способствовать увеличению выручки интернет-магазина.\n",
    "\n",
    "Исследование базируется на данных крупного интернет-магазина.\n"
   ]
  },
  {
   "cell_type": "markdown",
   "metadata": {},
   "source": [
    "## Описание данных"
   ]
  },
  {
   "cell_type": "markdown",
   "metadata": {},
   "source": [
    "**Описание полей в датасетах**\n",
    "\n",
    "Гипотезы - `/datasets/hypothesis.csv`\n",
    "\n",
    "- `Hypothesis` — краткое описание гипотезы,\n",
    "- `Reach` — охват пользователей по 10-балльной шкале,\n",
    "- `Impact` — влияние на пользователей по 10-балльной шкале,\n",
    "- `Confidence` — уверенность в гипотезе по 10-балльной шкале,\n",
    "- `Efforts` — затраты ресурсов на проверку гипотезы по 10-балльной шкале. Чем больше значение Efforts, тем дороже проверка гипотезы.\n",
    "\n",
    "Заказы - `/datasets/orders.csv`\n",
    "\n",
    "- `transactionId` — идентификатор заказа,\n",
    "- `visitorId` — идентификатор пользователя, совершившего заказ,\n",
    "- `date` — дата, когда был совершён заказ,\n",
    "- `revenue` — выручка заказа,\n",
    "- `group` — группа A/B-теста, в которую попал заказ.\n",
    "\n",
    "Посетители - `/datasets/visitors.csv` \n",
    "- `date` — дата,\n",
    "- `group` — группа A/B-теста,\n",
    "- `visitors` — количество пользователей в указанную дату в указанной группе A/B-теста"
   ]
  },
  {
   "cell_type": "markdown",
   "metadata": {},
   "source": [
    "## Загрузка данных"
   ]
  },
  {
   "cell_type": "code",
   "execution_count": 1,
   "metadata": {},
   "outputs": [],
   "source": [
    "# Импортируем нужные библиотеки\n",
    "from scipy import stats\n",
    "from IPython.display import display\n",
    "import pandas as pd\n",
    "import numpy as np\n",
    "import matplotlib.pyplot as plt\n",
    "import seaborn as sns\n",
    "import datetime as dt"
   ]
  },
  {
   "cell_type": "code",
   "execution_count": 2,
   "metadata": {},
   "outputs": [],
   "source": [
    "# Загрузим необходимые для анализа датасеты \n",
    "data_hypothesis = pd.read_csv('/datasets/hypothesis.csv')\n",
    "data_orders = pd.read_csv('/datasets/orders.csv')\n",
    "data_visitors = pd.read_csv('/datasets/visitors.csv')"
   ]
  },
  {
   "cell_type": "code",
   "execution_count": 3,
   "metadata": {},
   "outputs": [
    {
     "data": {
      "text/html": [
       "<div>\n",
       "<style scoped>\n",
       "    .dataframe tbody tr th:only-of-type {\n",
       "        vertical-align: middle;\n",
       "    }\n",
       "\n",
       "    .dataframe tbody tr th {\n",
       "        vertical-align: top;\n",
       "    }\n",
       "\n",
       "    .dataframe thead th {\n",
       "        text-align: right;\n",
       "    }\n",
       "</style>\n",
       "<table border=\"1\" class=\"dataframe\">\n",
       "  <thead>\n",
       "    <tr style=\"text-align: right;\">\n",
       "      <th></th>\n",
       "      <th>Hypothesis</th>\n",
       "      <th>Reach</th>\n",
       "      <th>Impact</th>\n",
       "      <th>Confidence</th>\n",
       "      <th>Efforts</th>\n",
       "    </tr>\n",
       "  </thead>\n",
       "  <tbody>\n",
       "    <tr>\n",
       "      <th>0</th>\n",
       "      <td>Добавить два новых канала привлечения трафика, что позволит привлекать на 30% больше пользователей</td>\n",
       "      <td>3</td>\n",
       "      <td>10</td>\n",
       "      <td>8</td>\n",
       "      <td>6</td>\n",
       "    </tr>\n",
       "    <tr>\n",
       "      <th>1</th>\n",
       "      <td>Запустить собственную службу доставки, что сократит срок доставки заказов</td>\n",
       "      <td>2</td>\n",
       "      <td>5</td>\n",
       "      <td>4</td>\n",
       "      <td>10</td>\n",
       "    </tr>\n",
       "    <tr>\n",
       "      <th>2</th>\n",
       "      <td>Добавить блоки рекомендаций товаров на сайт интернет магазина, чтобы повысить конверсию и средний чек заказа</td>\n",
       "      <td>8</td>\n",
       "      <td>3</td>\n",
       "      <td>7</td>\n",
       "      <td>3</td>\n",
       "    </tr>\n",
       "    <tr>\n",
       "      <th>3</th>\n",
       "      <td>Изменить структура категорий, что увеличит конверсию, т.к. пользователи быстрее найдут нужный товар</td>\n",
       "      <td>8</td>\n",
       "      <td>3</td>\n",
       "      <td>3</td>\n",
       "      <td>8</td>\n",
       "    </tr>\n",
       "    <tr>\n",
       "      <th>4</th>\n",
       "      <td>Изменить цвет фона главной страницы, чтобы увеличить вовлеченность пользователей</td>\n",
       "      <td>3</td>\n",
       "      <td>1</td>\n",
       "      <td>1</td>\n",
       "      <td>1</td>\n",
       "    </tr>\n",
       "  </tbody>\n",
       "</table>\n",
       "</div>"
      ],
      "text/plain": [
       "                                                                                                     Hypothesis  \\\n",
       "0            Добавить два новых канала привлечения трафика, что позволит привлекать на 30% больше пользователей   \n",
       "1                                     Запустить собственную службу доставки, что сократит срок доставки заказов   \n",
       "2  Добавить блоки рекомендаций товаров на сайт интернет магазина, чтобы повысить конверсию и средний чек заказа   \n",
       "3           Изменить структура категорий, что увеличит конверсию, т.к. пользователи быстрее найдут нужный товар   \n",
       "4                              Изменить цвет фона главной страницы, чтобы увеличить вовлеченность пользователей   \n",
       "\n",
       "   Reach  Impact  Confidence  Efforts  \n",
       "0      3      10           8        6  \n",
       "1      2       5           4       10  \n",
       "2      8       3           7        3  \n",
       "3      8       3           3        8  \n",
       "4      3       1           1        1  "
      ]
     },
     "metadata": {},
     "output_type": "display_data"
    },
    {
     "data": {
      "text/html": [
       "<div>\n",
       "<style scoped>\n",
       "    .dataframe tbody tr th:only-of-type {\n",
       "        vertical-align: middle;\n",
       "    }\n",
       "\n",
       "    .dataframe tbody tr th {\n",
       "        vertical-align: top;\n",
       "    }\n",
       "\n",
       "    .dataframe thead th {\n",
       "        text-align: right;\n",
       "    }\n",
       "</style>\n",
       "<table border=\"1\" class=\"dataframe\">\n",
       "  <thead>\n",
       "    <tr style=\"text-align: right;\">\n",
       "      <th></th>\n",
       "      <th>transactionId</th>\n",
       "      <th>visitorId</th>\n",
       "      <th>date</th>\n",
       "      <th>revenue</th>\n",
       "      <th>group</th>\n",
       "    </tr>\n",
       "  </thead>\n",
       "  <tbody>\n",
       "    <tr>\n",
       "      <th>0</th>\n",
       "      <td>3667963787</td>\n",
       "      <td>3312258926</td>\n",
       "      <td>2019-08-15</td>\n",
       "      <td>1650</td>\n",
       "      <td>B</td>\n",
       "    </tr>\n",
       "    <tr>\n",
       "      <th>1</th>\n",
       "      <td>2804400009</td>\n",
       "      <td>3642806036</td>\n",
       "      <td>2019-08-15</td>\n",
       "      <td>730</td>\n",
       "      <td>B</td>\n",
       "    </tr>\n",
       "    <tr>\n",
       "      <th>2</th>\n",
       "      <td>2961555356</td>\n",
       "      <td>4069496402</td>\n",
       "      <td>2019-08-15</td>\n",
       "      <td>400</td>\n",
       "      <td>A</td>\n",
       "    </tr>\n",
       "    <tr>\n",
       "      <th>3</th>\n",
       "      <td>3797467345</td>\n",
       "      <td>1196621759</td>\n",
       "      <td>2019-08-15</td>\n",
       "      <td>9759</td>\n",
       "      <td>B</td>\n",
       "    </tr>\n",
       "    <tr>\n",
       "      <th>4</th>\n",
       "      <td>2282983706</td>\n",
       "      <td>2322279887</td>\n",
       "      <td>2019-08-15</td>\n",
       "      <td>2308</td>\n",
       "      <td>B</td>\n",
       "    </tr>\n",
       "  </tbody>\n",
       "</table>\n",
       "</div>"
      ],
      "text/plain": [
       "   transactionId   visitorId        date  revenue group\n",
       "0     3667963787  3312258926  2019-08-15     1650     B\n",
       "1     2804400009  3642806036  2019-08-15      730     B\n",
       "2     2961555356  4069496402  2019-08-15      400     A\n",
       "3     3797467345  1196621759  2019-08-15     9759     B\n",
       "4     2282983706  2322279887  2019-08-15     2308     B"
      ]
     },
     "metadata": {},
     "output_type": "display_data"
    },
    {
     "data": {
      "text/html": [
       "<div>\n",
       "<style scoped>\n",
       "    .dataframe tbody tr th:only-of-type {\n",
       "        vertical-align: middle;\n",
       "    }\n",
       "\n",
       "    .dataframe tbody tr th {\n",
       "        vertical-align: top;\n",
       "    }\n",
       "\n",
       "    .dataframe thead th {\n",
       "        text-align: right;\n",
       "    }\n",
       "</style>\n",
       "<table border=\"1\" class=\"dataframe\">\n",
       "  <thead>\n",
       "    <tr style=\"text-align: right;\">\n",
       "      <th></th>\n",
       "      <th>date</th>\n",
       "      <th>group</th>\n",
       "      <th>visitors</th>\n",
       "    </tr>\n",
       "  </thead>\n",
       "  <tbody>\n",
       "    <tr>\n",
       "      <th>0</th>\n",
       "      <td>2019-08-01</td>\n",
       "      <td>A</td>\n",
       "      <td>719</td>\n",
       "    </tr>\n",
       "    <tr>\n",
       "      <th>1</th>\n",
       "      <td>2019-08-02</td>\n",
       "      <td>A</td>\n",
       "      <td>619</td>\n",
       "    </tr>\n",
       "    <tr>\n",
       "      <th>2</th>\n",
       "      <td>2019-08-03</td>\n",
       "      <td>A</td>\n",
       "      <td>507</td>\n",
       "    </tr>\n",
       "    <tr>\n",
       "      <th>3</th>\n",
       "      <td>2019-08-04</td>\n",
       "      <td>A</td>\n",
       "      <td>717</td>\n",
       "    </tr>\n",
       "    <tr>\n",
       "      <th>4</th>\n",
       "      <td>2019-08-05</td>\n",
       "      <td>A</td>\n",
       "      <td>756</td>\n",
       "    </tr>\n",
       "  </tbody>\n",
       "</table>\n",
       "</div>"
      ],
      "text/plain": [
       "         date group  visitors\n",
       "0  2019-08-01     A       719\n",
       "1  2019-08-02     A       619\n",
       "2  2019-08-03     A       507\n",
       "3  2019-08-04     A       717\n",
       "4  2019-08-05     A       756"
      ]
     },
     "metadata": {},
     "output_type": "display_data"
    }
   ],
   "source": [
    "# Выведем первые строки каждого набора данных. Изучим общую информацию о каждом датафрейме.\n",
    "# получение первых cтрок таблицы data_users\n",
    "pd.options.display.max_colwidth = 130\n",
    "display(data_hypothesis.head())\n",
    "\n",
    "# получение первых cтрок таблицы data_rides\n",
    "display(data_orders.head())\n",
    "\n",
    "# получение первых cтрок таблицы data_subs\n",
    "display(data_visitors.head())"
   ]
  },
  {
   "cell_type": "code",
   "execution_count": 4,
   "metadata": {},
   "outputs": [
    {
     "name": "stdout",
     "output_type": "stream",
     "text": [
      "<class 'pandas.core.frame.DataFrame'>\n",
      "RangeIndex: 9 entries, 0 to 8\n",
      "Data columns (total 5 columns):\n",
      " #   Column      Non-Null Count  Dtype \n",
      "---  ------      --------------  ----- \n",
      " 0   Hypothesis  9 non-null      object\n",
      " 1   Reach       9 non-null      int64 \n",
      " 2   Impact      9 non-null      int64 \n",
      " 3   Confidence  9 non-null      int64 \n",
      " 4   Efforts     9 non-null      int64 \n",
      "dtypes: int64(4), object(1)\n",
      "memory usage: 488.0+ bytes\n"
     ]
    }
   ],
   "source": [
    "# Общая информация о гипотезах\n",
    "data_hypothesis.info()"
   ]
  },
  {
   "cell_type": "code",
   "execution_count": 5,
   "metadata": {},
   "outputs": [
    {
     "name": "stdout",
     "output_type": "stream",
     "text": [
      "<class 'pandas.core.frame.DataFrame'>\n",
      "RangeIndex: 1197 entries, 0 to 1196\n",
      "Data columns (total 5 columns):\n",
      " #   Column         Non-Null Count  Dtype \n",
      "---  ------         --------------  ----- \n",
      " 0   transactionId  1197 non-null   int64 \n",
      " 1   visitorId      1197 non-null   int64 \n",
      " 2   date           1197 non-null   object\n",
      " 3   revenue        1197 non-null   int64 \n",
      " 4   group          1197 non-null   object\n",
      "dtypes: int64(3), object(2)\n",
      "memory usage: 46.9+ KB\n"
     ]
    }
   ],
   "source": [
    "# Общая информация о заказах\n",
    "data_orders.info()"
   ]
  },
  {
   "cell_type": "code",
   "execution_count": 6,
   "metadata": {},
   "outputs": [
    {
     "name": "stdout",
     "output_type": "stream",
     "text": [
      "<class 'pandas.core.frame.DataFrame'>\n",
      "RangeIndex: 62 entries, 0 to 61\n",
      "Data columns (total 3 columns):\n",
      " #   Column    Non-Null Count  Dtype \n",
      "---  ------    --------------  ----- \n",
      " 0   date      62 non-null     object\n",
      " 1   group     62 non-null     object\n",
      " 2   visitors  62 non-null     int64 \n",
      "dtypes: int64(1), object(2)\n",
      "memory usage: 1.6+ KB\n"
     ]
    }
   ],
   "source": [
    "# Общая информация о посетителях\n",
    "data_visitors.info()"
   ]
  },
  {
   "cell_type": "markdown",
   "metadata": {},
   "source": [
    "Из общей информации, выведенной методом info(), можно сделать следующие выводы:\n",
    "- Имеются три таблицы - с данными о гипотезах, заказах и посетителях. \n",
    "- В данных всех таблиц отсутствуют пропуски.\n",
    "- Необходимо поменять тип данных столбца `date` в таблицах с заказами и посетителями.\n",
    "- Имена столбцов в датасете `data_hypothesis` необходимо привести к нижнему регистру"
   ]
  },
  {
   "cell_type": "markdown",
   "metadata": {},
   "source": [
    "## Предобработка данных"
   ]
  },
  {
   "cell_type": "code",
   "execution_count": 7,
   "metadata": {},
   "outputs": [
    {
     "name": "stdout",
     "output_type": "stream",
     "text": [
      "<class 'pandas.core.frame.DataFrame'>\n",
      "RangeIndex: 1197 entries, 0 to 1196\n",
      "Data columns (total 5 columns):\n",
      " #   Column         Non-Null Count  Dtype         \n",
      "---  ------         --------------  -----         \n",
      " 0   transactionId  1197 non-null   int64         \n",
      " 1   visitorId      1197 non-null   int64         \n",
      " 2   date           1197 non-null   datetime64[ns]\n",
      " 3   revenue        1197 non-null   int64         \n",
      " 4   group          1197 non-null   object        \n",
      "dtypes: datetime64[ns](1), int64(3), object(1)\n",
      "memory usage: 46.9+ KB\n",
      "<class 'pandas.core.frame.DataFrame'>\n",
      "RangeIndex: 62 entries, 0 to 61\n",
      "Data columns (total 3 columns):\n",
      " #   Column    Non-Null Count  Dtype         \n",
      "---  ------    --------------  -----         \n",
      " 0   date      62 non-null     datetime64[ns]\n",
      " 1   group     62 non-null     object        \n",
      " 2   visitors  62 non-null     int64         \n",
      "dtypes: datetime64[ns](1), int64(1), object(1)\n",
      "memory usage: 1.6+ KB\n"
     ]
    }
   ],
   "source": [
    "# Поменяем тип столбца date на datetime\n",
    "data_orders['date'] = pd.to_datetime(data_orders['date'])\n",
    "data_visitors['date'] = pd.to_datetime(data_visitors['date'])\n",
    "data_orders.info()\n",
    "data_visitors.info()"
   ]
  },
  {
   "cell_type": "code",
   "execution_count": 8,
   "metadata": {},
   "outputs": [
    {
     "data": {
      "text/html": [
       "<div>\n",
       "<style scoped>\n",
       "    .dataframe tbody tr th:only-of-type {\n",
       "        vertical-align: middle;\n",
       "    }\n",
       "\n",
       "    .dataframe tbody tr th {\n",
       "        vertical-align: top;\n",
       "    }\n",
       "\n",
       "    .dataframe thead th {\n",
       "        text-align: right;\n",
       "    }\n",
       "</style>\n",
       "<table border=\"1\" class=\"dataframe\">\n",
       "  <thead>\n",
       "    <tr style=\"text-align: right;\">\n",
       "      <th></th>\n",
       "      <th>hypothesis</th>\n",
       "      <th>reach</th>\n",
       "      <th>impact</th>\n",
       "      <th>confidence</th>\n",
       "      <th>efforts</th>\n",
       "    </tr>\n",
       "  </thead>\n",
       "  <tbody>\n",
       "    <tr>\n",
       "      <th>0</th>\n",
       "      <td>Добавить два новых канала привлечения трафика, что позволит привлекать на 30% больше пользователей</td>\n",
       "      <td>3</td>\n",
       "      <td>10</td>\n",
       "      <td>8</td>\n",
       "      <td>6</td>\n",
       "    </tr>\n",
       "    <tr>\n",
       "      <th>1</th>\n",
       "      <td>Запустить собственную службу доставки, что сократит срок доставки заказов</td>\n",
       "      <td>2</td>\n",
       "      <td>5</td>\n",
       "      <td>4</td>\n",
       "      <td>10</td>\n",
       "    </tr>\n",
       "    <tr>\n",
       "      <th>2</th>\n",
       "      <td>Добавить блоки рекомендаций товаров на сайт интернет магазина, чтобы повысить конверсию и средний чек заказа</td>\n",
       "      <td>8</td>\n",
       "      <td>3</td>\n",
       "      <td>7</td>\n",
       "      <td>3</td>\n",
       "    </tr>\n",
       "    <tr>\n",
       "      <th>3</th>\n",
       "      <td>Изменить структура категорий, что увеличит конверсию, т.к. пользователи быстрее найдут нужный товар</td>\n",
       "      <td>8</td>\n",
       "      <td>3</td>\n",
       "      <td>3</td>\n",
       "      <td>8</td>\n",
       "    </tr>\n",
       "    <tr>\n",
       "      <th>4</th>\n",
       "      <td>Изменить цвет фона главной страницы, чтобы увеличить вовлеченность пользователей</td>\n",
       "      <td>3</td>\n",
       "      <td>1</td>\n",
       "      <td>1</td>\n",
       "      <td>1</td>\n",
       "    </tr>\n",
       "  </tbody>\n",
       "</table>\n",
       "</div>"
      ],
      "text/plain": [
       "                                                                                                     hypothesis  \\\n",
       "0            Добавить два новых канала привлечения трафика, что позволит привлекать на 30% больше пользователей   \n",
       "1                                     Запустить собственную службу доставки, что сократит срок доставки заказов   \n",
       "2  Добавить блоки рекомендаций товаров на сайт интернет магазина, чтобы повысить конверсию и средний чек заказа   \n",
       "3           Изменить структура категорий, что увеличит конверсию, т.к. пользователи быстрее найдут нужный товар   \n",
       "4                              Изменить цвет фона главной страницы, чтобы увеличить вовлеченность пользователей   \n",
       "\n",
       "   reach  impact  confidence  efforts  \n",
       "0      3      10           8        6  \n",
       "1      2       5           4       10  \n",
       "2      8       3           7        3  \n",
       "3      8       3           3        8  \n",
       "4      3       1           1        1  "
      ]
     },
     "metadata": {},
     "output_type": "display_data"
    }
   ],
   "source": [
    "# Имена столбцов в датасете `data_hypothesis` приведем к нижнему регистру\n",
    "data_hypothesis.columns = data_hypothesis.columns.str.lower()\n",
    "display(data_hypothesis.head())"
   ]
  },
  {
   "cell_type": "code",
   "execution_count": 9,
   "metadata": {},
   "outputs": [
    {
     "data": {
      "text/plain": [
       "0"
      ]
     },
     "execution_count": 9,
     "metadata": {},
     "output_type": "execute_result"
    }
   ],
   "source": [
    "# Проверим данные по заказам на дубликаты\n",
    "data_orders.duplicated().sum()"
   ]
  },
  {
   "cell_type": "code",
   "execution_count": 10,
   "metadata": {},
   "outputs": [
    {
     "data": {
      "text/plain": [
       "0"
      ]
     },
     "execution_count": 10,
     "metadata": {},
     "output_type": "execute_result"
    }
   ],
   "source": [
    "# Проверим данные по посетителям на дубликаты\n",
    "data_visitors.duplicated().sum()"
   ]
  },
  {
   "cell_type": "code",
   "execution_count": 11,
   "metadata": {},
   "outputs": [
    {
     "data": {
      "text/html": [
       "<div>\n",
       "<style scoped>\n",
       "    .dataframe tbody tr th:only-of-type {\n",
       "        vertical-align: middle;\n",
       "    }\n",
       "\n",
       "    .dataframe tbody tr th {\n",
       "        vertical-align: top;\n",
       "    }\n",
       "\n",
       "    .dataframe thead th {\n",
       "        text-align: right;\n",
       "    }\n",
       "</style>\n",
       "<table border=\"1\" class=\"dataframe\">\n",
       "  <thead>\n",
       "    <tr style=\"text-align: right;\">\n",
       "      <th></th>\n",
       "      <th>transaction_id</th>\n",
       "      <th>visitor_id</th>\n",
       "      <th>date</th>\n",
       "      <th>revenue</th>\n",
       "      <th>group</th>\n",
       "    </tr>\n",
       "  </thead>\n",
       "  <tbody>\n",
       "    <tr>\n",
       "      <th>0</th>\n",
       "      <td>3667963787</td>\n",
       "      <td>3312258926</td>\n",
       "      <td>2019-08-15</td>\n",
       "      <td>1650</td>\n",
       "      <td>B</td>\n",
       "    </tr>\n",
       "    <tr>\n",
       "      <th>1</th>\n",
       "      <td>2804400009</td>\n",
       "      <td>3642806036</td>\n",
       "      <td>2019-08-15</td>\n",
       "      <td>730</td>\n",
       "      <td>B</td>\n",
       "    </tr>\n",
       "    <tr>\n",
       "      <th>2</th>\n",
       "      <td>2961555356</td>\n",
       "      <td>4069496402</td>\n",
       "      <td>2019-08-15</td>\n",
       "      <td>400</td>\n",
       "      <td>A</td>\n",
       "    </tr>\n",
       "    <tr>\n",
       "      <th>3</th>\n",
       "      <td>3797467345</td>\n",
       "      <td>1196621759</td>\n",
       "      <td>2019-08-15</td>\n",
       "      <td>9759</td>\n",
       "      <td>B</td>\n",
       "    </tr>\n",
       "    <tr>\n",
       "      <th>4</th>\n",
       "      <td>2282983706</td>\n",
       "      <td>2322279887</td>\n",
       "      <td>2019-08-15</td>\n",
       "      <td>2308</td>\n",
       "      <td>B</td>\n",
       "    </tr>\n",
       "  </tbody>\n",
       "</table>\n",
       "</div>"
      ],
      "text/plain": [
       "   transaction_id  visitor_id       date  revenue group\n",
       "0      3667963787  3312258926 2019-08-15     1650     B\n",
       "1      2804400009  3642806036 2019-08-15      730     B\n",
       "2      2961555356  4069496402 2019-08-15      400     A\n",
       "3      3797467345  1196621759 2019-08-15     9759     B\n",
       "4      2282983706  2322279887 2019-08-15     2308     B"
      ]
     },
     "execution_count": 11,
     "metadata": {},
     "output_type": "execute_result"
    }
   ],
   "source": [
    "# Имена столбцов в датасете `data_orders` приведем к нижнему регистру через `_`\n",
    "data_orders.columns = ['transaction_id', 'visitor_id', 'date', 'revenue', 'group']\n",
    "data_orders.head()"
   ]
  },
  {
   "cell_type": "markdown",
   "metadata": {},
   "source": [
    "### Выводы"
   ]
  },
  {
   "cell_type": "markdown",
   "metadata": {},
   "source": [
    "На этапе предобоаботки данных была проделана следующая работа:\n",
    "\n",
    "- привели столбец date к типу datetime\n",
    "- привели имена столбцов в датасете `data_hypothesis` к нижнему регистру\n",
    "- проверили на наличие дубликатов\n"
   ]
  },
  {
   "cell_type": "markdown",
   "metadata": {},
   "source": [
    "## Приоритизация гипотез"
   ]
  },
  {
   "cell_type": "markdown",
   "metadata": {},
   "source": [
    "В файле `/datasets/hypothesis.csv` даны 9 гипотез по увеличению выручки интернет-магазина с указанными параметрами `Reach`, `Impact`, `Confidence`, `Effort`. Приоритизируем их при помощи фреймворков `ICE` и `RICE`."
   ]
  },
  {
   "cell_type": "markdown",
   "metadata": {},
   "source": [
    "### Применим фреймворк `ICE` для приоритизации гипотез"
   ]
  },
  {
   "cell_type": "code",
   "execution_count": 12,
   "metadata": {},
   "outputs": [
    {
     "data": {
      "text/html": [
       "<div>\n",
       "<style scoped>\n",
       "    .dataframe tbody tr th:only-of-type {\n",
       "        vertical-align: middle;\n",
       "    }\n",
       "\n",
       "    .dataframe tbody tr th {\n",
       "        vertical-align: top;\n",
       "    }\n",
       "\n",
       "    .dataframe thead th {\n",
       "        text-align: right;\n",
       "    }\n",
       "</style>\n",
       "<table border=\"1\" class=\"dataframe\">\n",
       "  <thead>\n",
       "    <tr style=\"text-align: right;\">\n",
       "      <th></th>\n",
       "      <th>hypothesis</th>\n",
       "      <th>ICE</th>\n",
       "    </tr>\n",
       "  </thead>\n",
       "  <tbody>\n",
       "    <tr>\n",
       "      <th>8</th>\n",
       "      <td>Запустить акцию, дающую скидку на товар в день рождения</td>\n",
       "      <td>16.20</td>\n",
       "    </tr>\n",
       "    <tr>\n",
       "      <th>0</th>\n",
       "      <td>Добавить два новых канала привлечения трафика, что позволит привлекать на 30% больше пользователей</td>\n",
       "      <td>13.33</td>\n",
       "    </tr>\n",
       "    <tr>\n",
       "      <th>7</th>\n",
       "      <td>Добавить форму подписки на все основные страницы, чтобы собрать базу клиентов для email-рассылок</td>\n",
       "      <td>11.20</td>\n",
       "    </tr>\n",
       "    <tr>\n",
       "      <th>6</th>\n",
       "      <td>Показать на главной странице баннеры с актуальными акциями и распродажами, чтобы увеличить конверсию</td>\n",
       "      <td>8.00</td>\n",
       "    </tr>\n",
       "    <tr>\n",
       "      <th>2</th>\n",
       "      <td>Добавить блоки рекомендаций товаров на сайт интернет магазина, чтобы повысить конверсию и средний чек заказа</td>\n",
       "      <td>7.00</td>\n",
       "    </tr>\n",
       "    <tr>\n",
       "      <th>1</th>\n",
       "      <td>Запустить собственную службу доставки, что сократит срок доставки заказов</td>\n",
       "      <td>2.00</td>\n",
       "    </tr>\n",
       "    <tr>\n",
       "      <th>5</th>\n",
       "      <td>Добавить страницу отзывов клиентов о магазине, что позволит увеличить количество заказов</td>\n",
       "      <td>1.33</td>\n",
       "    </tr>\n",
       "    <tr>\n",
       "      <th>3</th>\n",
       "      <td>Изменить структура категорий, что увеличит конверсию, т.к. пользователи быстрее найдут нужный товар</td>\n",
       "      <td>1.12</td>\n",
       "    </tr>\n",
       "    <tr>\n",
       "      <th>4</th>\n",
       "      <td>Изменить цвет фона главной страницы, чтобы увеличить вовлеченность пользователей</td>\n",
       "      <td>1.00</td>\n",
       "    </tr>\n",
       "  </tbody>\n",
       "</table>\n",
       "</div>"
      ],
      "text/plain": [
       "                                                                                                     hypothesis  \\\n",
       "8                                                       Запустить акцию, дающую скидку на товар в день рождения   \n",
       "0            Добавить два новых канала привлечения трафика, что позволит привлекать на 30% больше пользователей   \n",
       "7              Добавить форму подписки на все основные страницы, чтобы собрать базу клиентов для email-рассылок   \n",
       "6          Показать на главной странице баннеры с актуальными акциями и распродажами, чтобы увеличить конверсию   \n",
       "2  Добавить блоки рекомендаций товаров на сайт интернет магазина, чтобы повысить конверсию и средний чек заказа   \n",
       "1                                     Запустить собственную службу доставки, что сократит срок доставки заказов   \n",
       "5                      Добавить страницу отзывов клиентов о магазине, что позволит увеличить количество заказов   \n",
       "3           Изменить структура категорий, что увеличит конверсию, т.к. пользователи быстрее найдут нужный товар   \n",
       "4                              Изменить цвет фона главной страницы, чтобы увеличить вовлеченность пользователей   \n",
       "\n",
       "     ICE  \n",
       "8  16.20  \n",
       "0  13.33  \n",
       "7  11.20  \n",
       "6   8.00  \n",
       "2   7.00  \n",
       "1   2.00  \n",
       "5   1.33  \n",
       "3   1.12  \n",
       "4   1.00  "
      ]
     },
     "execution_count": 12,
     "metadata": {},
     "output_type": "execute_result"
    }
   ],
   "source": [
    "# Применим фреймворк ICE для приоритизации гипотез и отсортируем их по убыванию приоритета\n",
    "data_hypothesis['ICE'] = round(data_hypothesis['impact'] * data_hypothesis['confidence'] / data_hypothesis['efforts'], 2)\n",
    "data_hypothesis[['hypothesis', 'ICE']].sort_values(by='ICE', ascending= False)"
   ]
  },
  {
   "cell_type": "markdown",
   "metadata": {},
   "source": [
    "По фреймворку `ICE` наиболее приоритетными оказались следующие гипотезы:\n",
    "- \"Запустить акцию, дающую скидку на товар в день рождения\"\n",
    "- \"Добавить два новых канала привлечения трафика, что позволит привлекать на 30% больше пользователей\"\n",
    "- \"Добавить форму подписки на все основные страницы, чтобы собрать базу клиентов для email-рассылок\""
   ]
  },
  {
   "cell_type": "markdown",
   "metadata": {},
   "source": [
    "### Применим фреймворк `RICE` для приоритизации гипотез"
   ]
  },
  {
   "cell_type": "code",
   "execution_count": 13,
   "metadata": {},
   "outputs": [
    {
     "data": {
      "text/html": [
       "<div>\n",
       "<style scoped>\n",
       "    .dataframe tbody tr th:only-of-type {\n",
       "        vertical-align: middle;\n",
       "    }\n",
       "\n",
       "    .dataframe tbody tr th {\n",
       "        vertical-align: top;\n",
       "    }\n",
       "\n",
       "    .dataframe thead th {\n",
       "        text-align: right;\n",
       "    }\n",
       "</style>\n",
       "<table border=\"1\" class=\"dataframe\">\n",
       "  <thead>\n",
       "    <tr style=\"text-align: right;\">\n",
       "      <th></th>\n",
       "      <th>hypothesis</th>\n",
       "      <th>RICE</th>\n",
       "    </tr>\n",
       "  </thead>\n",
       "  <tbody>\n",
       "    <tr>\n",
       "      <th>7</th>\n",
       "      <td>Добавить форму подписки на все основные страницы, чтобы собрать базу клиентов для email-рассылок</td>\n",
       "      <td>112.0</td>\n",
       "    </tr>\n",
       "    <tr>\n",
       "      <th>2</th>\n",
       "      <td>Добавить блоки рекомендаций товаров на сайт интернет магазина, чтобы повысить конверсию и средний чек заказа</td>\n",
       "      <td>56.0</td>\n",
       "    </tr>\n",
       "    <tr>\n",
       "      <th>0</th>\n",
       "      <td>Добавить два новых канала привлечения трафика, что позволит привлекать на 30% больше пользователей</td>\n",
       "      <td>40.0</td>\n",
       "    </tr>\n",
       "    <tr>\n",
       "      <th>6</th>\n",
       "      <td>Показать на главной странице баннеры с актуальными акциями и распродажами, чтобы увеличить конверсию</td>\n",
       "      <td>40.0</td>\n",
       "    </tr>\n",
       "    <tr>\n",
       "      <th>8</th>\n",
       "      <td>Запустить акцию, дающую скидку на товар в день рождения</td>\n",
       "      <td>16.2</td>\n",
       "    </tr>\n",
       "    <tr>\n",
       "      <th>3</th>\n",
       "      <td>Изменить структура категорий, что увеличит конверсию, т.к. пользователи быстрее найдут нужный товар</td>\n",
       "      <td>9.0</td>\n",
       "    </tr>\n",
       "    <tr>\n",
       "      <th>1</th>\n",
       "      <td>Запустить собственную службу доставки, что сократит срок доставки заказов</td>\n",
       "      <td>4.0</td>\n",
       "    </tr>\n",
       "    <tr>\n",
       "      <th>5</th>\n",
       "      <td>Добавить страницу отзывов клиентов о магазине, что позволит увеличить количество заказов</td>\n",
       "      <td>4.0</td>\n",
       "    </tr>\n",
       "    <tr>\n",
       "      <th>4</th>\n",
       "      <td>Изменить цвет фона главной страницы, чтобы увеличить вовлеченность пользователей</td>\n",
       "      <td>3.0</td>\n",
       "    </tr>\n",
       "  </tbody>\n",
       "</table>\n",
       "</div>"
      ],
      "text/plain": [
       "                                                                                                     hypothesis  \\\n",
       "7              Добавить форму подписки на все основные страницы, чтобы собрать базу клиентов для email-рассылок   \n",
       "2  Добавить блоки рекомендаций товаров на сайт интернет магазина, чтобы повысить конверсию и средний чек заказа   \n",
       "0            Добавить два новых канала привлечения трафика, что позволит привлекать на 30% больше пользователей   \n",
       "6          Показать на главной странице баннеры с актуальными акциями и распродажами, чтобы увеличить конверсию   \n",
       "8                                                       Запустить акцию, дающую скидку на товар в день рождения   \n",
       "3           Изменить структура категорий, что увеличит конверсию, т.к. пользователи быстрее найдут нужный товар   \n",
       "1                                     Запустить собственную службу доставки, что сократит срок доставки заказов   \n",
       "5                      Добавить страницу отзывов клиентов о магазине, что позволит увеличить количество заказов   \n",
       "4                              Изменить цвет фона главной страницы, чтобы увеличить вовлеченность пользователей   \n",
       "\n",
       "    RICE  \n",
       "7  112.0  \n",
       "2   56.0  \n",
       "0   40.0  \n",
       "6   40.0  \n",
       "8   16.2  \n",
       "3    9.0  \n",
       "1    4.0  \n",
       "5    4.0  \n",
       "4    3.0  "
      ]
     },
     "execution_count": 13,
     "metadata": {},
     "output_type": "execute_result"
    }
   ],
   "source": [
    "# Применим фреймворк `RICE` для приоритизации гипотез и отсортируем их по убыванию приоритета.\n",
    "data_hypothesis['RICE'] = round(\n",
    "    data_hypothesis['reach'] * \n",
    "    data_hypothesis['impact'] * \n",
    "    data_hypothesis['confidence'] / \n",
    "    data_hypothesis['efforts'], 2)\n",
    "data_hypothesis[['hypothesis', 'RICE']].sort_values(by='RICE', ascending= False)"
   ]
  },
  {
   "cell_type": "markdown",
   "metadata": {},
   "source": [
    "По фреймворку `RICE` наиболее приоритетными оказались следующие гипотезы:\n",
    "- \"Добавить форму подписки на все основные страницы, чтобы собрать базу клиентов для email-рассылок\"\n",
    "- \"Добавить блоки рекомендаций товаров на сайт интернет магазина, чтобы повысить конверсию и средний чек заказа\"\n",
    "- \"Добавить два новых канала привлечения трафика, что позволит привлекать на 30% больше пользователей\""
   ]
  },
  {
   "cell_type": "markdown",
   "metadata": {},
   "source": [
    "### Выводы"
   ]
  },
  {
   "cell_type": "markdown",
   "metadata": {},
   "source": [
    "Как видим, приоритизация гипотез при применении RICE вместо ICE изменилась. \n",
    "- При применении фреймворка `ICE` наиболее приоритетными оказались гипотезы с индексами 8, 0 и 7. А при применении `RICE` наиболее приоритетными оказались гипотезы с индексами 7, 2 и 0.\n",
    "- Приоритизация изменилась, так как параметр `Reach`, отвечающий за охват аудитории, оказался выше у лидирующих гипотез по фреймворку `RICE`."
   ]
  },
  {
   "cell_type": "markdown",
   "metadata": {},
   "source": [
    "## Анализ A/B-теста"
   ]
  },
  {
   "cell_type": "markdown",
   "metadata": {},
   "source": [
    "В файлах `/datasets/orders.csv` и `/datasets/visitors.csv` даны результаты проведенного A/B-теста. \n",
    "Проанализируем данный А/В тест."
   ]
  },
  {
   "cell_type": "code",
   "execution_count": 14,
   "metadata": {},
   "outputs": [
    {
     "data": {
      "text/html": [
       "<div>\n",
       "<style scoped>\n",
       "    .dataframe tbody tr th:only-of-type {\n",
       "        vertical-align: middle;\n",
       "    }\n",
       "\n",
       "    .dataframe tbody tr th {\n",
       "        vertical-align: top;\n",
       "    }\n",
       "\n",
       "    .dataframe thead th {\n",
       "        text-align: right;\n",
       "    }\n",
       "</style>\n",
       "<table border=\"1\" class=\"dataframe\">\n",
       "  <thead>\n",
       "    <tr style=\"text-align: right;\">\n",
       "      <th></th>\n",
       "      <th>date</th>\n",
       "      <th>group</th>\n",
       "    </tr>\n",
       "  </thead>\n",
       "  <tbody>\n",
       "    <tr>\n",
       "      <th>0</th>\n",
       "      <td>2019-08-15</td>\n",
       "      <td>B</td>\n",
       "    </tr>\n",
       "    <tr>\n",
       "      <th>2</th>\n",
       "      <td>2019-08-15</td>\n",
       "      <td>A</td>\n",
       "    </tr>\n",
       "    <tr>\n",
       "      <th>45</th>\n",
       "      <td>2019-08-16</td>\n",
       "      <td>A</td>\n",
       "    </tr>\n",
       "    <tr>\n",
       "      <th>47</th>\n",
       "      <td>2019-08-16</td>\n",
       "      <td>B</td>\n",
       "    </tr>\n",
       "    <tr>\n",
       "      <th>55</th>\n",
       "      <td>2019-08-01</td>\n",
       "      <td>A</td>\n",
       "    </tr>\n",
       "  </tbody>\n",
       "</table>\n",
       "</div>"
      ],
      "text/plain": [
       "         date group\n",
       "0  2019-08-15     B\n",
       "2  2019-08-15     A\n",
       "45 2019-08-16     A\n",
       "47 2019-08-16     B\n",
       "55 2019-08-01     A"
      ]
     },
     "execution_count": 14,
     "metadata": {},
     "output_type": "execute_result"
    }
   ],
   "source": [
    "# Подготовим группы теста\n",
    "groups = data_orders[['date','group']].drop_duplicates()\n",
    "groups.head()"
   ]
  },
  {
   "cell_type": "code",
   "execution_count": 15,
   "metadata": {},
   "outputs": [
    {
     "data": {
      "text/html": [
       "<div>\n",
       "<style scoped>\n",
       "    .dataframe tbody tr th:only-of-type {\n",
       "        vertical-align: middle;\n",
       "    }\n",
       "\n",
       "    .dataframe tbody tr th {\n",
       "        vertical-align: top;\n",
       "    }\n",
       "\n",
       "    .dataframe thead th {\n",
       "        text-align: right;\n",
       "    }\n",
       "</style>\n",
       "<table border=\"1\" class=\"dataframe\">\n",
       "  <thead>\n",
       "    <tr style=\"text-align: right;\">\n",
       "      <th></th>\n",
       "      <th>date</th>\n",
       "      <th>group</th>\n",
       "      <th>transaction_id</th>\n",
       "      <th>visitor_id</th>\n",
       "      <th>revenue</th>\n",
       "    </tr>\n",
       "  </thead>\n",
       "  <tbody>\n",
       "    <tr>\n",
       "      <th>55</th>\n",
       "      <td>2019-08-01</td>\n",
       "      <td>A</td>\n",
       "      <td>24</td>\n",
       "      <td>20</td>\n",
       "      <td>148579</td>\n",
       "    </tr>\n",
       "    <tr>\n",
       "      <th>66</th>\n",
       "      <td>2019-08-01</td>\n",
       "      <td>B</td>\n",
       "      <td>21</td>\n",
       "      <td>20</td>\n",
       "      <td>101217</td>\n",
       "    </tr>\n",
       "    <tr>\n",
       "      <th>175</th>\n",
       "      <td>2019-08-02</td>\n",
       "      <td>A</td>\n",
       "      <td>44</td>\n",
       "      <td>38</td>\n",
       "      <td>242401</td>\n",
       "    </tr>\n",
       "    <tr>\n",
       "      <th>173</th>\n",
       "      <td>2019-08-02</td>\n",
       "      <td>B</td>\n",
       "      <td>45</td>\n",
       "      <td>43</td>\n",
       "      <td>266748</td>\n",
       "    </tr>\n",
       "    <tr>\n",
       "      <th>291</th>\n",
       "      <td>2019-08-03</td>\n",
       "      <td>A</td>\n",
       "      <td>68</td>\n",
       "      <td>62</td>\n",
       "      <td>354874</td>\n",
       "    </tr>\n",
       "  </tbody>\n",
       "</table>\n",
       "</div>"
      ],
      "text/plain": [
       "          date group  transaction_id  visitor_id  revenue\n",
       "55  2019-08-01     A              24          20   148579\n",
       "66  2019-08-01     B              21          20   101217\n",
       "175 2019-08-02     A              44          38   242401\n",
       "173 2019-08-02     B              45          43   266748\n",
       "291 2019-08-03     A              68          62   354874"
      ]
     },
     "execution_count": 15,
     "metadata": {},
     "output_type": "execute_result"
    }
   ],
   "source": [
    "# Агрегируем данные о заказах \n",
    "orders_agg = groups.apply(\n",
    "    lambda x: data_orders[np.logical_and(data_orders['date'] <= x['date'], data_orders['group'] == x['group'])]\\\n",
    "        .agg({\n",
    "            'date': 'max', \n",
    "            'group': 'max', \n",
    "            'transaction_id': 'nunique',\n",
    "            'visitor_id': 'nunique',\n",
    "            'revenue': 'sum'\n",
    "        }), axis=1).sort_values(by=['date','group'])\n",
    "orders_agg.head()"
   ]
  },
  {
   "cell_type": "code",
   "execution_count": 16,
   "metadata": {},
   "outputs": [
    {
     "data": {
      "text/html": [
       "<div>\n",
       "<style scoped>\n",
       "    .dataframe tbody tr th:only-of-type {\n",
       "        vertical-align: middle;\n",
       "    }\n",
       "\n",
       "    .dataframe tbody tr th {\n",
       "        vertical-align: top;\n",
       "    }\n",
       "\n",
       "    .dataframe thead th {\n",
       "        text-align: right;\n",
       "    }\n",
       "</style>\n",
       "<table border=\"1\" class=\"dataframe\">\n",
       "  <thead>\n",
       "    <tr style=\"text-align: right;\">\n",
       "      <th></th>\n",
       "      <th>date</th>\n",
       "      <th>group</th>\n",
       "      <th>visitors</th>\n",
       "    </tr>\n",
       "  </thead>\n",
       "  <tbody>\n",
       "    <tr>\n",
       "      <th>55</th>\n",
       "      <td>2019-08-01</td>\n",
       "      <td>A</td>\n",
       "      <td>719</td>\n",
       "    </tr>\n",
       "    <tr>\n",
       "      <th>66</th>\n",
       "      <td>2019-08-01</td>\n",
       "      <td>B</td>\n",
       "      <td>713</td>\n",
       "    </tr>\n",
       "    <tr>\n",
       "      <th>175</th>\n",
       "      <td>2019-08-02</td>\n",
       "      <td>A</td>\n",
       "      <td>1338</td>\n",
       "    </tr>\n",
       "    <tr>\n",
       "      <th>173</th>\n",
       "      <td>2019-08-02</td>\n",
       "      <td>B</td>\n",
       "      <td>1294</td>\n",
       "    </tr>\n",
       "    <tr>\n",
       "      <th>291</th>\n",
       "      <td>2019-08-03</td>\n",
       "      <td>A</td>\n",
       "      <td>1845</td>\n",
       "    </tr>\n",
       "  </tbody>\n",
       "</table>\n",
       "</div>"
      ],
      "text/plain": [
       "          date group  visitors\n",
       "55  2019-08-01     A       719\n",
       "66  2019-08-01     B       713\n",
       "175 2019-08-02     A      1338\n",
       "173 2019-08-02     B      1294\n",
       "291 2019-08-03     A      1845"
      ]
     },
     "execution_count": 16,
     "metadata": {},
     "output_type": "execute_result"
    }
   ],
   "source": [
    "# Агрегируем данные о посетителях\n",
    "visitors_agg = groups.apply(\n",
    "    lambda x: data_visitors[np.logical_and(data_visitors['date'] <= x['date'], data_visitors['group'] == x['group'])]\\\n",
    "        .agg({\n",
    "            'date': 'max',\n",
    "            'group': 'max',\n",
    "            'visitors': 'sum'\n",
    "        }), axis=1).sort_values(by=['date','group'])\n",
    "visitors_agg.head()"
   ]
  },
  {
   "cell_type": "code",
   "execution_count": 17,
   "metadata": {},
   "outputs": [
    {
     "data": {
      "text/html": [
       "<div>\n",
       "<style scoped>\n",
       "    .dataframe tbody tr th:only-of-type {\n",
       "        vertical-align: middle;\n",
       "    }\n",
       "\n",
       "    .dataframe tbody tr th {\n",
       "        vertical-align: top;\n",
       "    }\n",
       "\n",
       "    .dataframe thead th {\n",
       "        text-align: right;\n",
       "    }\n",
       "</style>\n",
       "<table border=\"1\" class=\"dataframe\">\n",
       "  <thead>\n",
       "    <tr style=\"text-align: right;\">\n",
       "      <th></th>\n",
       "      <th>date</th>\n",
       "      <th>group</th>\n",
       "      <th>orders</th>\n",
       "      <th>buyers</th>\n",
       "      <th>revenue</th>\n",
       "      <th>visitors</th>\n",
       "    </tr>\n",
       "  </thead>\n",
       "  <tbody>\n",
       "    <tr>\n",
       "      <th>0</th>\n",
       "      <td>2019-08-01</td>\n",
       "      <td>A</td>\n",
       "      <td>24</td>\n",
       "      <td>20</td>\n",
       "      <td>148579</td>\n",
       "      <td>719</td>\n",
       "    </tr>\n",
       "    <tr>\n",
       "      <th>1</th>\n",
       "      <td>2019-08-01</td>\n",
       "      <td>B</td>\n",
       "      <td>21</td>\n",
       "      <td>20</td>\n",
       "      <td>101217</td>\n",
       "      <td>713</td>\n",
       "    </tr>\n",
       "    <tr>\n",
       "      <th>2</th>\n",
       "      <td>2019-08-02</td>\n",
       "      <td>A</td>\n",
       "      <td>44</td>\n",
       "      <td>38</td>\n",
       "      <td>242401</td>\n",
       "      <td>1338</td>\n",
       "    </tr>\n",
       "    <tr>\n",
       "      <th>3</th>\n",
       "      <td>2019-08-02</td>\n",
       "      <td>B</td>\n",
       "      <td>45</td>\n",
       "      <td>43</td>\n",
       "      <td>266748</td>\n",
       "      <td>1294</td>\n",
       "    </tr>\n",
       "    <tr>\n",
       "      <th>4</th>\n",
       "      <td>2019-08-03</td>\n",
       "      <td>A</td>\n",
       "      <td>68</td>\n",
       "      <td>62</td>\n",
       "      <td>354874</td>\n",
       "      <td>1845</td>\n",
       "    </tr>\n",
       "  </tbody>\n",
       "</table>\n",
       "</div>"
      ],
      "text/plain": [
       "        date group  orders  buyers  revenue  visitors\n",
       "0 2019-08-01     A      24      20   148579       719\n",
       "1 2019-08-01     B      21      20   101217       713\n",
       "2 2019-08-02     A      44      38   242401      1338\n",
       "3 2019-08-02     B      45      43   266748      1294\n",
       "4 2019-08-03     A      68      62   354874      1845"
      ]
     },
     "execution_count": 17,
     "metadata": {},
     "output_type": "execute_result"
    }
   ],
   "source": [
    "# Объединим агрегированные данные в одной таблице и переименуем столбцы\n",
    "cumulative_data = orders_agg.merge(visitors_agg, left_on=['date', 'group'], right_on=['date', 'group'])\n",
    "cumulative_data.columns = ['date', 'group', 'orders', 'buyers', 'revenue', 'visitors']\n",
    "cumulative_data.head()"
   ]
  },
  {
   "cell_type": "markdown",
   "metadata": {},
   "source": [
    "### Кумулятивная выручка по группам"
   ]
  },
  {
   "cell_type": "markdown",
   "metadata": {},
   "source": [
    "Построим график кумулятивной выручки по группам, сделаем выводы и предположения."
   ]
  },
  {
   "cell_type": "code",
   "execution_count": 18,
   "metadata": {},
   "outputs": [
    {
     "data": {
      "image/png": "[encoded data removed]",
      "text/plain": [
       "<Figure size 1080x720 with 1 Axes>"
      ]
     },
     "metadata": {
      "needs_background": "light"
     },
     "output_type": "display_data"
    }
   ],
   "source": [
    "# Количество заказов и выручка по дням в группе А\n",
    "cumulative_revenue_A = cumulative_data[cumulative_data['group'] == 'A'][['date', 'revenue', 'orders']]\n",
    "\n",
    "# Количество заказов и выручка по дням в группе В\n",
    "cumulative_revenue_B = cumulative_data[cumulative_data['group'] == 'B'][['date', 'revenue', 'orders']]\n",
    "\n",
    "# Строим график\n",
    "plt.figure(figsize=(15, 10))\n",
    "plt.plot(cumulative_revenue_A['date'], cumulative_revenue_A['revenue'], label='Группа A')\n",
    "plt.plot(cumulative_revenue_B['date'], cumulative_revenue_B['revenue'], label='Группа B')\n",
    "plt.title('Кумулятивная выручка по группам')\n",
    "plt.xlabel('Дата')\n",
    "plt.ylabel('Выручка, млн. руб.')\n",
    "plt.grid()\n",
    "plt.legend()\n",
    "plt.show()"
   ]
  },
  {
   "cell_type": "markdown",
   "metadata": {},
   "source": [
    "По графику мы видим, что до середины теста выручка распределялась равномерно между двумя группами. Затем выручка группы B резко увеличилась. Это может говорить или о всплесках числа заказов, или о появлении очень дорогих заказов."
   ]
  },
  {
   "cell_type": "markdown",
   "metadata": {},
   "source": [
    "### Кумулятивный средний чек по группам"
   ]
  },
  {
   "cell_type": "markdown",
   "metadata": {},
   "source": [
    "Построим график кумулятивного среднего чека по группам, сделаем выводы и предположения."
   ]
  },
  {
   "cell_type": "code",
   "execution_count": 19,
   "metadata": {},
   "outputs": [
    {
     "data": {
      "image/png": "[encoded data removed]",
      "text/plain": [
       "<Figure size 1080x720 with 1 Axes>"
      ]
     },
     "metadata": {
      "needs_background": "light"
     },
     "output_type": "display_data"
    }
   ],
   "source": [
    "plt.figure(figsize=(15, 10))\n",
    "plt.plot(cumulative_revenue_A['date'], cumulative_revenue_A['revenue'] / cumulative_revenue_A['orders'], label='Группа A')\n",
    "plt.plot(cumulative_revenue_B['date'], cumulative_revenue_B['revenue'] / cumulative_revenue_B['orders'], label='Группа B')\n",
    "plt.title('Кумулятивный средний чек по группам')\n",
    "plt.xlabel('Дата')\n",
    "plt.ylabel('Cредний чек, руб.')\n",
    "plt.grid()\n",
    "plt.legend()\n",
    "plt.show()"
   ]
  },
  {
   "cell_type": "markdown",
   "metadata": {},
   "source": [
    "- Примерно на середине теста мы видим резкий рост среднего чека группы В, а у группы А средний чек немного идет на временный спад. Затем у группы В начинается спад после скачка, а у группы А начинается подъем.\n",
    "- В целом кумулятивный средний чек группы А имеет более плавный график, в отличии от группы B.\n",
    "- Кумулятивное значение среднего чека обеих групп стабилизируется к концу теста."
   ]
  },
  {
   "cell_type": "markdown",
   "metadata": {},
   "source": [
    "### Относительное изменение кумулятивного среднего чека"
   ]
  },
  {
   "cell_type": "markdown",
   "metadata": {},
   "source": [
    "Построим график относительного изменения кумулятивного среднего чека группы B к группе A, сделаем выводы и предположения."
   ]
  },
  {
   "cell_type": "code",
   "execution_count": 20,
   "metadata": {},
   "outputs": [
    {
     "data": {
      "image/png": "[encoded data removed]",
      "text/plain": [
       "<Figure size 1080x720 with 1 Axes>"
      ]
     },
     "metadata": {
      "needs_background": "light"
     },
     "output_type": "display_data"
    }
   ],
   "source": [
    "# Объединим данные по группам\n",
    "cumulative_revenue = cumulative_revenue_A.merge(\n",
    "    cumulative_revenue_B, \n",
    "    left_on='date', \n",
    "    right_on='date', \n",
    "    how='left', \n",
    "    suffixes=['_A', '_B']\n",
    ")\n",
    "\n",
    "# Построим график\n",
    "plt.figure(figsize=(15, 10))\n",
    "plt.plot(\n",
    "    cumulative_revenue['date'], \n",
    "    (\n",
    "        cumulative_revenue['revenue_B'] / cumulative_revenue['orders_B']) / (\n",
    "            cumulative_revenue['revenue_A'] / cumulative_revenue['orders_A']\n",
    "        ) - 1\n",
    "    )\n",
    "plt.axhline(y=0, color='black', linestyle='--')\n",
    "plt.title('Относительное изменение кумулятивного среднего чека группы B к группе A')\n",
    "plt.xlabel('Дата')\n",
    "plt.ylabel('Доля')\n",
    "plt.grid()\n",
    "plt.show()"
   ]
  },
  {
   "cell_type": "markdown",
   "metadata": {},
   "source": [
    "По графику видны резкие изменения среднего чека. Скорее всего, в эти даты были совершены аномальные заказы."
   ]
  },
  {
   "cell_type": "markdown",
   "metadata": {},
   "source": [
    "### Кумулятивное среднее количество заказов на посетителя"
   ]
  },
  {
   "cell_type": "markdown",
   "metadata": {},
   "source": [
    "Построим график кумулятивного среднего количества заказов на посетителя по группам, сделаем выводы и предположения."
   ]
  },
  {
   "cell_type": "code",
   "execution_count": 21,
   "metadata": {},
   "outputs": [
    {
     "data": {
      "image/png": "[encoded data removed]",
      "text/plain": [
       "<Figure size 1080x504 with 1 Axes>"
      ]
     },
     "metadata": {
      "needs_background": "light"
     },
     "output_type": "display_data"
    }
   ],
   "source": [
    "# Посчитаем среднее количество заказов на посетителя по группам\n",
    "cumulative_data['conversion'] = cumulative_data['orders'] / cumulative_data['visitors']\n",
    "\n",
    "# Отделим данные по группе A\n",
    "cumulative_data_A = cumulative_data[cumulative_data['group']=='A']\n",
    "\n",
    "# Отделим данные по группе B\n",
    "cumulative_data_B = cumulative_data[cumulative_data['group']=='B']\n",
    "\n",
    "# Построим график\n",
    "plt.figure(figsize=(15, 7))\n",
    "plt.plot(cumulative_data_A['date'], cumulative_data_A['conversion'], label='Группа A')\n",
    "plt.plot(cumulative_data_B['date'], cumulative_data_B['conversion'], label='Группа B')\n",
    "plt.axis([dt.datetime(2019, 8, 1), dt.datetime(2019, 9, 1), 0.028, 0.038])\n",
    "plt.title('Кумулятивное среднее количество заказов на посетителя')\n",
    "plt.xlabel('Дата')\n",
    "plt.ylabel('Среднее количество заказов')\n",
    "plt.legend()\n",
    "plt.grid()\n",
    "plt.show()"
   ]
  },
  {
   "cell_type": "markdown",
   "metadata": {},
   "source": [
    "По графику видим: \n",
    "- в начале теста конверсия группы А была выше, чем у группы В\n",
    "- в начале августа конверсия группы B начала расти\n",
    "- затем конверсия группы В зафиксировались в положении выше А"
   ]
  },
  {
   "cell_type": "markdown",
   "metadata": {},
   "source": [
    "### Относительное изменение кумулятивного среднего количества заказов"
   ]
  },
  {
   "cell_type": "markdown",
   "metadata": {},
   "source": [
    "Построим график относительного изменения кумулятивного среднего количества заказов на посетителя группы B к группе A, сделаем выводы и предположения."
   ]
  },
  {
   "cell_type": "code",
   "execution_count": 22,
   "metadata": {},
   "outputs": [
    {
     "data": {
      "image/png": "[encoded data removed]",
      "text/plain": [
       "<Figure size 1080x720 with 1 Axes>"
      ]
     },
     "metadata": {
      "needs_background": "light"
     },
     "output_type": "display_data"
    }
   ],
   "source": [
    "# Объединим данные по конверсии\n",
    "cumulative_data_AB = cumulative_data_A[['date','conversion']].merge(\n",
    "    cumulative_data_B[['date','conversion']], \n",
    "    left_on='date', \n",
    "    right_on='date', \n",
    "    how='left', \n",
    "    suffixes=['_A', '_B']\n",
    ")\n",
    "\n",
    "# Построим график\n",
    "plt.figure(figsize=(15, 10))\n",
    "plt.plot(\n",
    "    cumulative_data_AB['date'], \n",
    "    cumulative_data_AB['conversion_B'] / cumulative_data_AB['conversion_A'] - 1, \n",
    "    label=\"Относительный прирост конверсии группы B относительно группы A\"\n",
    ")\n",
    "plt.axhline(y=0, color='black', linestyle='--')\n",
    "plt.axhline(y=0.15, color='grey', linestyle='--')\n",
    "plt.title('Относительное изменение кумулятивного среднего количества заказов на посетителя группы B к группе A')\n",
    "plt.xlabel('Дата')\n",
    "plt.ylabel('Среднее количество заказов на посетителя')\n",
    "plt.legend()\n",
    "plt.grid()\n",
    "plt.show()"
   ]
  },
  {
   "cell_type": "markdown",
   "metadata": {},
   "source": [
    "По графику видно, что относительное изменение кумулятивного среднего количества заказов на посетителя группы B выходит вперед после 5-го дня теста и лидирует с преимуществом примерно 15% до конца теста."
   ]
  },
  {
   "cell_type": "markdown",
   "metadata": {},
   "source": [
    "### Количество заказов по пользователям"
   ]
  },
  {
   "cell_type": "markdown",
   "metadata": {},
   "source": [
    "Построим точечный график количества заказов по пользователям, сделаем выводы и предположения."
   ]
  },
  {
   "cell_type": "code",
   "execution_count": 23,
   "metadata": {},
   "outputs": [
    {
     "data": {
      "text/html": [
       "<div>\n",
       "<style scoped>\n",
       "    .dataframe tbody tr th:only-of-type {\n",
       "        vertical-align: middle;\n",
       "    }\n",
       "\n",
       "    .dataframe tbody tr th {\n",
       "        vertical-align: top;\n",
       "    }\n",
       "\n",
       "    .dataframe thead th {\n",
       "        text-align: right;\n",
       "    }\n",
       "</style>\n",
       "<table border=\"1\" class=\"dataframe\">\n",
       "  <thead>\n",
       "    <tr style=\"text-align: right;\">\n",
       "      <th></th>\n",
       "      <th>visitor_id</th>\n",
       "      <th>transaction_id</th>\n",
       "    </tr>\n",
       "  </thead>\n",
       "  <tbody>\n",
       "    <tr>\n",
       "      <th>1023</th>\n",
       "      <td>4256040402</td>\n",
       "      <td>11</td>\n",
       "    </tr>\n",
       "    <tr>\n",
       "      <th>591</th>\n",
       "      <td>2458001652</td>\n",
       "      <td>11</td>\n",
       "    </tr>\n",
       "    <tr>\n",
       "      <th>569</th>\n",
       "      <td>2378935119</td>\n",
       "      <td>9</td>\n",
       "    </tr>\n",
       "    <tr>\n",
       "      <th>487</th>\n",
       "      <td>2038680547</td>\n",
       "      <td>8</td>\n",
       "    </tr>\n",
       "    <tr>\n",
       "      <th>44</th>\n",
       "      <td>199603092</td>\n",
       "      <td>5</td>\n",
       "    </tr>\n",
       "  </tbody>\n",
       "</table>\n",
       "</div>"
      ],
      "text/plain": [
       "      visitor_id  transaction_id\n",
       "1023  4256040402              11\n",
       "591   2458001652              11\n",
       "569   2378935119               9\n",
       "487   2038680547               8\n",
       "44     199603092               5"
      ]
     },
     "execution_count": 23,
     "metadata": {},
     "output_type": "execute_result"
    }
   ],
   "source": [
    "# Посчитаем количество заказов по пользователям \n",
    "orders_by_users = (\n",
    "    data_orders.groupby('visitor_id', as_index=False)\n",
    "    .agg({'transaction_id': 'nunique'})\n",
    ")\n",
    "orders_by_users.columns = ['visitor_id', 'transaction_id']\n",
    "orders_by_users.sort_values(by='transaction_id', ascending=False).head()"
   ]
  },
  {
   "cell_type": "code",
   "execution_count": 24,
   "metadata": {},
   "outputs": [
    {
     "data": {
      "image/png": "[encoded data removed]",
      "text/plain": [
       "<Figure size 720x504 with 1 Axes>"
      ]
     },
     "metadata": {
      "needs_background": "light"
     },
     "output_type": "display_data"
    }
   ],
   "source": [
    "# Построим график\n",
    "x_values = pd.Series(range(0, len(orders_by_users)))\n",
    "plt.figure(figsize=(10, 7))\n",
    "plt.scatter(x_values, orders_by_users['transaction_id'])\n",
    "plt.xlabel('Пользователи')\n",
    "plt.ylabel('Количество заказов')\n",
    "plt.title(\"Количество заказов по пользователям\")\n",
    "plt.grid()\n",
    "plt.show()"
   ]
  },
  {
   "cell_type": "markdown",
   "metadata": {},
   "source": [
    "Как видим, небольшое количество пользователей сделали заказ более двух раз. Значит, что они могут быть аномальными."
   ]
  },
  {
   "cell_type": "markdown",
   "metadata": {},
   "source": [
    "### Аномальные пользователи"
   ]
  },
  {
   "cell_type": "markdown",
   "metadata": {},
   "source": [
    "Посчитаем 95-й и 99-й перцентили количества заказов на пользователя и выберим границу для определения аномальных пользователей."
   ]
  },
  {
   "cell_type": "code",
   "execution_count": 25,
   "metadata": {},
   "outputs": [
    {
     "name": "stdout",
     "output_type": "stream",
     "text": [
      "95-й перцентиль: 2.0, 99-й перцентиль: 4.0\n",
      "Минимальное количество заказов для \"номальных\" пользователей: 4.0\n"
     ]
    }
   ],
   "source": [
    "# Посчитаем 95-й и 99-й перцентили количества заказов на пользователя\n",
    "percentiles = np.percentile(orders_by_users['transaction_id'], [95, 99])\n",
    "print(f\"95-й перцентиль: {percentiles[0]}, 99-й перцентиль: {percentiles[1]}\")\n",
    "\n",
    "min_normal_orders_count = percentiles[1]\n",
    "print(f\"Минимальное количество заказов для \\\"номальных\\\" пользователей: {min_normal_orders_count}\")"
   ]
  },
  {
   "cell_type": "markdown",
   "metadata": {},
   "source": [
    "- Не более 5% пользователей оформляли больше 2х заказов\n",
    "- 1% пользователей заказывали больше 4х раз\n",
    "- Тех пользователей, которые совершили более 4 заказов, примем за аномальных."
   ]
  },
  {
   "cell_type": "markdown",
   "metadata": {},
   "source": [
    "### Стоимости заказов"
   ]
  },
  {
   "cell_type": "markdown",
   "metadata": {},
   "source": [
    "Построим точечный график стоимостей заказов, сделаем выводы и предположения."
   ]
  },
  {
   "cell_type": "code",
   "execution_count": 26,
   "metadata": {},
   "outputs": [
    {
     "data": {
      "image/png": "[encoded data removed]",
      "text/plain": [
       "<Figure size 720x504 with 1 Axes>"
      ]
     },
     "metadata": {
      "needs_background": "light"
     },
     "output_type": "display_data"
    }
   ],
   "source": [
    "# Построим график\n",
    "x_values = pd.Series(range(0, len(data_orders['revenue'])))\n",
    "plt.figure(figsize=(10, 7))\n",
    "plt.scatter(x_values, data_orders['revenue']) \n",
    "plt.xlabel('Пользователи')\n",
    "plt.ylabel('Стоимость заказов, млн. руб.')\n",
    "plt.title('Стоимости заказов')\n",
    "plt.grid()\n",
    "plt.show()"
   ]
  },
  {
   "cell_type": "markdown",
   "metadata": {},
   "source": [
    "В среднем стоимость заказов не превышает 200 000р, есть пару выбросов ( около 200 тыс. и 1,3 млн.). Посчитаем выборочные процентили."
   ]
  },
  {
   "cell_type": "markdown",
   "metadata": {},
   "source": [
    "### Аномальные заказы"
   ]
  },
  {
   "cell_type": "markdown",
   "metadata": {},
   "source": [
    "Посчитаем 95-й и 99-й перцентили стоимости заказов. Выберим границу для определения аномальных заказов."
   ]
  },
  {
   "cell_type": "code",
   "execution_count": 27,
   "metadata": {},
   "outputs": [
    {
     "name": "stdout",
     "output_type": "stream",
     "text": [
      "95-й перцентиль: 28000.0, 99-й перцентиль: 58233.2\n",
      "Минимальная сумма заказа для \"номальных\" пользователей: 28000\n"
     ]
    }
   ],
   "source": [
    "percentiles = np.percentile(data_orders['revenue'] , [95, 99])\n",
    "print(f\"95-й перцентиль: {round(percentiles[0], 3)}, 99-й перцентиль: {round(percentiles[1], 3)}\")\n",
    "\n",
    "min_normal_order_sum = round(percentiles[0])\n",
    "print(f\"Минимальная сумма заказа для \\\"номальных\\\" пользователей: {min_normal_order_sum}\")"
   ]
  },
  {
   "cell_type": "markdown",
   "metadata": {},
   "source": [
    "- Не более 5% пользователей потратили более 28 тысяч рублей\n",
    "- 1% пользователей потратили более 58,2 тысяч рублей\n",
    "- Примем за аномальных заказы те, которые превышают 28 тысяч рублей"
   ]
  },
  {
   "cell_type": "markdown",
   "metadata": {},
   "source": [
    "### Расчет статистической значимости по «сырым» данным"
   ]
  },
  {
   "cell_type": "markdown",
   "metadata": {},
   "source": [
    "#### Различия в среднем количестве заказов на посетителя"
   ]
  },
  {
   "cell_type": "markdown",
   "metadata": {},
   "source": [
    "Посчитаем статистическую значимость различий в среднем количестве заказов на посетителя между группами по «сырым» данным. Сделаем выводы и предположения."
   ]
  },
  {
   "cell_type": "markdown",
   "metadata": {},
   "source": [
    "1) Создадим переменные `orders_by_users_A` и `orders_by_users_B` со столбцами `user_id` и `orders`, где для пользователей, совершивших хотя бы 1 заказ, будет указано число заказов. \n",
    "\n",
    "2) Объявим переменные sample_A и sample_B, в которых пользователям с заказами будет соответствовать число заказов пользователя. А пользователям без заказов — нули. \n",
    "\n",
    "Эти действия нужны, чтобы подготовить выборки к проверке критерием Манна-Уитни:\n",
    "- H0: Среднее количество заказов на посетителя групп A и B равны, статистически значимых отличий нет;\n",
    "- H1: Среднем количество заказов на посетителя групп A и B различны, статистически значимые отличия есть."
   ]
  },
  {
   "cell_type": "code",
   "execution_count": 28,
   "metadata": {},
   "outputs": [
    {
     "data": {
      "text/html": [
       "<div>\n",
       "<style scoped>\n",
       "    .dataframe tbody tr th:only-of-type {\n",
       "        vertical-align: middle;\n",
       "    }\n",
       "\n",
       "    .dataframe tbody tr th {\n",
       "        vertical-align: top;\n",
       "    }\n",
       "\n",
       "    .dataframe thead th {\n",
       "        text-align: right;\n",
       "    }\n",
       "</style>\n",
       "<table border=\"1\" class=\"dataframe\">\n",
       "  <thead>\n",
       "    <tr style=\"text-align: right;\">\n",
       "      <th></th>\n",
       "      <th>date</th>\n",
       "      <th>visitors_A</th>\n",
       "    </tr>\n",
       "  </thead>\n",
       "  <tbody>\n",
       "    <tr>\n",
       "      <th>0</th>\n",
       "      <td>2019-08-01</td>\n",
       "      <td>719</td>\n",
       "    </tr>\n",
       "    <tr>\n",
       "      <th>1</th>\n",
       "      <td>2019-08-02</td>\n",
       "      <td>619</td>\n",
       "    </tr>\n",
       "    <tr>\n",
       "      <th>2</th>\n",
       "      <td>2019-08-03</td>\n",
       "      <td>507</td>\n",
       "    </tr>\n",
       "    <tr>\n",
       "      <th>3</th>\n",
       "      <td>2019-08-04</td>\n",
       "      <td>717</td>\n",
       "    </tr>\n",
       "    <tr>\n",
       "      <th>4</th>\n",
       "      <td>2019-08-05</td>\n",
       "      <td>756</td>\n",
       "    </tr>\n",
       "  </tbody>\n",
       "</table>\n",
       "</div>"
      ],
      "text/plain": [
       "        date  visitors_A\n",
       "0 2019-08-01         719\n",
       "1 2019-08-02         619\n",
       "2 2019-08-03         507\n",
       "3 2019-08-04         717\n",
       "4 2019-08-05         756"
      ]
     },
     "execution_count": 28,
     "metadata": {},
     "output_type": "execute_result"
    }
   ],
   "source": [
    "# Посчитаем количество пользователей группы А на каждую дату\n",
    "visitors_daily_A = data_visitors[data_visitors['group'] == 'A'][['date', 'visitors']]\n",
    "visitors_daily_A.columns = ['date', 'visitors_A']\n",
    "visitors_daily_A.head()"
   ]
  },
  {
   "cell_type": "code",
   "execution_count": 29,
   "metadata": {},
   "outputs": [
    {
     "data": {
      "text/html": [
       "<div>\n",
       "<style scoped>\n",
       "    .dataframe tbody tr th:only-of-type {\n",
       "        vertical-align: middle;\n",
       "    }\n",
       "\n",
       "    .dataframe tbody tr th {\n",
       "        vertical-align: top;\n",
       "    }\n",
       "\n",
       "    .dataframe thead th {\n",
       "        text-align: right;\n",
       "    }\n",
       "</style>\n",
       "<table border=\"1\" class=\"dataframe\">\n",
       "  <thead>\n",
       "    <tr style=\"text-align: right;\">\n",
       "      <th></th>\n",
       "      <th>date</th>\n",
       "      <th>visitors_A_sum</th>\n",
       "    </tr>\n",
       "  </thead>\n",
       "  <tbody>\n",
       "    <tr>\n",
       "      <th>0</th>\n",
       "      <td>2019-08-01</td>\n",
       "      <td>719</td>\n",
       "    </tr>\n",
       "    <tr>\n",
       "      <th>1</th>\n",
       "      <td>2019-08-02</td>\n",
       "      <td>1338</td>\n",
       "    </tr>\n",
       "    <tr>\n",
       "      <th>2</th>\n",
       "      <td>2019-08-03</td>\n",
       "      <td>1845</td>\n",
       "    </tr>\n",
       "    <tr>\n",
       "      <th>3</th>\n",
       "      <td>2019-08-04</td>\n",
       "      <td>2562</td>\n",
       "    </tr>\n",
       "    <tr>\n",
       "      <th>4</th>\n",
       "      <td>2019-08-05</td>\n",
       "      <td>3318</td>\n",
       "    </tr>\n",
       "  </tbody>\n",
       "</table>\n",
       "</div>"
      ],
      "text/plain": [
       "        date  visitors_A_sum\n",
       "0 2019-08-01             719\n",
       "1 2019-08-02            1338\n",
       "2 2019-08-03            1845\n",
       "3 2019-08-04            2562\n",
       "4 2019-08-05            3318"
      ]
     },
     "execution_count": 29,
     "metadata": {},
     "output_type": "execute_result"
    }
   ],
   "source": [
    "# Посчитаем количество пользователей группы А на каждую дату с накоплением\n",
    "visitors_A = visitors_daily_A.apply(\n",
    "    lambda x: visitors_daily_A[visitors_daily_A['date'] <= x['date']].agg(\n",
    "        {'date': 'max', 'visitors_A': 'sum'}\n",
    "    ),\n",
    "    axis=1,\n",
    ")\n",
    "visitors_A.columns = ['date', 'visitors_A_sum' ]\n",
    "visitors_A.head()"
   ]
  },
  {
   "cell_type": "code",
   "execution_count": 30,
   "metadata": {},
   "outputs": [
    {
     "data": {
      "text/html": [
       "<div>\n",
       "<style scoped>\n",
       "    .dataframe tbody tr th:only-of-type {\n",
       "        vertical-align: middle;\n",
       "    }\n",
       "\n",
       "    .dataframe tbody tr th {\n",
       "        vertical-align: top;\n",
       "    }\n",
       "\n",
       "    .dataframe thead th {\n",
       "        text-align: right;\n",
       "    }\n",
       "</style>\n",
       "<table border=\"1\" class=\"dataframe\">\n",
       "  <thead>\n",
       "    <tr style=\"text-align: right;\">\n",
       "      <th></th>\n",
       "      <th>date</th>\n",
       "      <th>visitors_B</th>\n",
       "    </tr>\n",
       "  </thead>\n",
       "  <tbody>\n",
       "    <tr>\n",
       "      <th>31</th>\n",
       "      <td>2019-08-01</td>\n",
       "      <td>713</td>\n",
       "    </tr>\n",
       "    <tr>\n",
       "      <th>32</th>\n",
       "      <td>2019-08-02</td>\n",
       "      <td>581</td>\n",
       "    </tr>\n",
       "    <tr>\n",
       "      <th>33</th>\n",
       "      <td>2019-08-03</td>\n",
       "      <td>509</td>\n",
       "    </tr>\n",
       "    <tr>\n",
       "      <th>34</th>\n",
       "      <td>2019-08-04</td>\n",
       "      <td>770</td>\n",
       "    </tr>\n",
       "    <tr>\n",
       "      <th>35</th>\n",
       "      <td>2019-08-05</td>\n",
       "      <td>707</td>\n",
       "    </tr>\n",
       "  </tbody>\n",
       "</table>\n",
       "</div>"
      ],
      "text/plain": [
       "         date  visitors_B\n",
       "31 2019-08-01         713\n",
       "32 2019-08-02         581\n",
       "33 2019-08-03         509\n",
       "34 2019-08-04         770\n",
       "35 2019-08-05         707"
      ]
     },
     "execution_count": 30,
     "metadata": {},
     "output_type": "execute_result"
    }
   ],
   "source": [
    "# Посчитаем количество пользователей группы В на каждую дату\n",
    "visitors_daily_B = data_visitors[data_visitors['group'] == 'B'][['date', 'visitors']]\n",
    "visitors_daily_B.columns = ['date', 'visitors_B']\n",
    "visitors_daily_B.head()"
   ]
  },
  {
   "cell_type": "code",
   "execution_count": 31,
   "metadata": {},
   "outputs": [
    {
     "data": {
      "text/html": [
       "<div>\n",
       "<style scoped>\n",
       "    .dataframe tbody tr th:only-of-type {\n",
       "        vertical-align: middle;\n",
       "    }\n",
       "\n",
       "    .dataframe tbody tr th {\n",
       "        vertical-align: top;\n",
       "    }\n",
       "\n",
       "    .dataframe thead th {\n",
       "        text-align: right;\n",
       "    }\n",
       "</style>\n",
       "<table border=\"1\" class=\"dataframe\">\n",
       "  <thead>\n",
       "    <tr style=\"text-align: right;\">\n",
       "      <th></th>\n",
       "      <th>date</th>\n",
       "      <th>visitors_B_sum</th>\n",
       "    </tr>\n",
       "  </thead>\n",
       "  <tbody>\n",
       "    <tr>\n",
       "      <th>31</th>\n",
       "      <td>2019-08-01</td>\n",
       "      <td>713</td>\n",
       "    </tr>\n",
       "    <tr>\n",
       "      <th>32</th>\n",
       "      <td>2019-08-02</td>\n",
       "      <td>1294</td>\n",
       "    </tr>\n",
       "    <tr>\n",
       "      <th>33</th>\n",
       "      <td>2019-08-03</td>\n",
       "      <td>1803</td>\n",
       "    </tr>\n",
       "    <tr>\n",
       "      <th>34</th>\n",
       "      <td>2019-08-04</td>\n",
       "      <td>2573</td>\n",
       "    </tr>\n",
       "    <tr>\n",
       "      <th>35</th>\n",
       "      <td>2019-08-05</td>\n",
       "      <td>3280</td>\n",
       "    </tr>\n",
       "  </tbody>\n",
       "</table>\n",
       "</div>"
      ],
      "text/plain": [
       "         date  visitors_B_sum\n",
       "31 2019-08-01             713\n",
       "32 2019-08-02            1294\n",
       "33 2019-08-03            1803\n",
       "34 2019-08-04            2573\n",
       "35 2019-08-05            3280"
      ]
     },
     "execution_count": 31,
     "metadata": {},
     "output_type": "execute_result"
    }
   ],
   "source": [
    "# Посчитаем количество пользователей группы В на каждую дату с накоплением\n",
    "visitors_B = visitors_daily_B.apply(\n",
    "    lambda x: visitors_daily_B[visitors_daily_B['date'] <= x['date']].agg(\n",
    "        {'date': 'max', 'visitors_B': 'sum'}\n",
    "    ),\n",
    "    axis=1,\n",
    ")\n",
    "visitors_B.columns = ['date', 'visitors_B_sum' ]\n",
    "visitors_B.head()"
   ]
  },
  {
   "cell_type": "code",
   "execution_count": 32,
   "metadata": {},
   "outputs": [
    {
     "data": {
      "text/html": [
       "<div>\n",
       "<style scoped>\n",
       "    .dataframe tbody tr th:only-of-type {\n",
       "        vertical-align: middle;\n",
       "    }\n",
       "\n",
       "    .dataframe tbody tr th {\n",
       "        vertical-align: top;\n",
       "    }\n",
       "\n",
       "    .dataframe thead th {\n",
       "        text-align: right;\n",
       "    }\n",
       "</style>\n",
       "<table border=\"1\" class=\"dataframe\">\n",
       "  <thead>\n",
       "    <tr style=\"text-align: right;\">\n",
       "      <th></th>\n",
       "      <th>date</th>\n",
       "      <th>orders_A</th>\n",
       "      <th>revenue_A</th>\n",
       "    </tr>\n",
       "  </thead>\n",
       "  <tbody>\n",
       "    <tr>\n",
       "      <th>0</th>\n",
       "      <td>2019-08-01</td>\n",
       "      <td>24</td>\n",
       "      <td>148579</td>\n",
       "    </tr>\n",
       "    <tr>\n",
       "      <th>1</th>\n",
       "      <td>2019-08-02</td>\n",
       "      <td>20</td>\n",
       "      <td>93822</td>\n",
       "    </tr>\n",
       "    <tr>\n",
       "      <th>2</th>\n",
       "      <td>2019-08-03</td>\n",
       "      <td>24</td>\n",
       "      <td>112473</td>\n",
       "    </tr>\n",
       "    <tr>\n",
       "      <th>3</th>\n",
       "      <td>2019-08-04</td>\n",
       "      <td>16</td>\n",
       "      <td>70825</td>\n",
       "    </tr>\n",
       "    <tr>\n",
       "      <th>4</th>\n",
       "      <td>2019-08-05</td>\n",
       "      <td>25</td>\n",
       "      <td>124218</td>\n",
       "    </tr>\n",
       "  </tbody>\n",
       "</table>\n",
       "</div>"
      ],
      "text/plain": [
       "        date  orders_A  revenue_A\n",
       "0 2019-08-01        24     148579\n",
       "1 2019-08-02        20      93822\n",
       "2 2019-08-03        24     112473\n",
       "3 2019-08-04        16      70825\n",
       "4 2019-08-05        25     124218"
      ]
     },
     "execution_count": 32,
     "metadata": {},
     "output_type": "execute_result"
    }
   ],
   "source": [
    "# Посчитаем количество заказов и их сумму в группе A на каждую дату\n",
    "orders_daily_A = (\n",
    "    data_orders[data_orders['group'] == 'A'][['date', 'transaction_id', 'visitor_id', 'revenue']]\n",
    "        .groupby('date', as_index=False)\n",
    "        .agg({'transaction_id': pd.Series.nunique, 'revenue': 'sum'})\n",
    ")\n",
    "orders_daily_A.columns = ['date', 'orders_A', 'revenue_A']\n",
    "orders_daily_A.head()"
   ]
  },
  {
   "cell_type": "code",
   "execution_count": 33,
   "metadata": {},
   "outputs": [
    {
     "data": {
      "text/html": [
       "<div>\n",
       "<style scoped>\n",
       "    .dataframe tbody tr th:only-of-type {\n",
       "        vertical-align: middle;\n",
       "    }\n",
       "\n",
       "    .dataframe tbody tr th {\n",
       "        vertical-align: top;\n",
       "    }\n",
       "\n",
       "    .dataframe thead th {\n",
       "        text-align: right;\n",
       "    }\n",
       "</style>\n",
       "<table border=\"1\" class=\"dataframe\">\n",
       "  <thead>\n",
       "    <tr style=\"text-align: right;\">\n",
       "      <th></th>\n",
       "      <th>date</th>\n",
       "      <th>orders_A_sum</th>\n",
       "      <th>revenue_A_sum</th>\n",
       "    </tr>\n",
       "  </thead>\n",
       "  <tbody>\n",
       "    <tr>\n",
       "      <th>0</th>\n",
       "      <td>2019-08-01</td>\n",
       "      <td>24</td>\n",
       "      <td>148579</td>\n",
       "    </tr>\n",
       "    <tr>\n",
       "      <th>1</th>\n",
       "      <td>2019-08-02</td>\n",
       "      <td>44</td>\n",
       "      <td>242401</td>\n",
       "    </tr>\n",
       "    <tr>\n",
       "      <th>2</th>\n",
       "      <td>2019-08-03</td>\n",
       "      <td>68</td>\n",
       "      <td>354874</td>\n",
       "    </tr>\n",
       "    <tr>\n",
       "      <th>3</th>\n",
       "      <td>2019-08-04</td>\n",
       "      <td>84</td>\n",
       "      <td>425699</td>\n",
       "    </tr>\n",
       "    <tr>\n",
       "      <th>4</th>\n",
       "      <td>2019-08-05</td>\n",
       "      <td>109</td>\n",
       "      <td>549917</td>\n",
       "    </tr>\n",
       "  </tbody>\n",
       "</table>\n",
       "</div>"
      ],
      "text/plain": [
       "        date  orders_A_sum  revenue_A_sum\n",
       "0 2019-08-01            24         148579\n",
       "1 2019-08-02            44         242401\n",
       "2 2019-08-03            68         354874\n",
       "3 2019-08-04            84         425699\n",
       "4 2019-08-05           109         549917"
      ]
     },
     "execution_count": 33,
     "metadata": {},
     "output_type": "execute_result"
    }
   ],
   "source": [
    "# Посчитаем количество заказов и их сумму в группе A на каждую дату с накоплением\n",
    "orders_A = orders_daily_A.apply(\n",
    "    lambda x: orders_daily_A[orders_daily_A['date'] <= x['date']].agg(\n",
    "        {'date': 'max', 'orders_A': 'sum', 'revenue_A': 'sum'}\n",
    "    ),\n",
    "    axis=1,\n",
    ").sort_values(by=['date'])\n",
    "orders_A.columns = ['date', 'orders_A_sum', 'revenue_A_sum']\n",
    "orders_A.head()"
   ]
  },
  {
   "cell_type": "code",
   "execution_count": 34,
   "metadata": {},
   "outputs": [
    {
     "data": {
      "text/html": [
       "<div>\n",
       "<style scoped>\n",
       "    .dataframe tbody tr th:only-of-type {\n",
       "        vertical-align: middle;\n",
       "    }\n",
       "\n",
       "    .dataframe tbody tr th {\n",
       "        vertical-align: top;\n",
       "    }\n",
       "\n",
       "    .dataframe thead th {\n",
       "        text-align: right;\n",
       "    }\n",
       "</style>\n",
       "<table border=\"1\" class=\"dataframe\">\n",
       "  <thead>\n",
       "    <tr style=\"text-align: right;\">\n",
       "      <th></th>\n",
       "      <th>date</th>\n",
       "      <th>orders_B</th>\n",
       "      <th>revenue_B</th>\n",
       "    </tr>\n",
       "  </thead>\n",
       "  <tbody>\n",
       "    <tr>\n",
       "      <th>0</th>\n",
       "      <td>2019-08-01</td>\n",
       "      <td>21</td>\n",
       "      <td>101217</td>\n",
       "    </tr>\n",
       "    <tr>\n",
       "      <th>1</th>\n",
       "      <td>2019-08-02</td>\n",
       "      <td>24</td>\n",
       "      <td>165531</td>\n",
       "    </tr>\n",
       "    <tr>\n",
       "      <th>2</th>\n",
       "      <td>2019-08-03</td>\n",
       "      <td>16</td>\n",
       "      <td>114248</td>\n",
       "    </tr>\n",
       "    <tr>\n",
       "      <th>3</th>\n",
       "      <td>2019-08-04</td>\n",
       "      <td>17</td>\n",
       "      <td>108571</td>\n",
       "    </tr>\n",
       "    <tr>\n",
       "      <th>4</th>\n",
       "      <td>2019-08-05</td>\n",
       "      <td>23</td>\n",
       "      <td>92428</td>\n",
       "    </tr>\n",
       "  </tbody>\n",
       "</table>\n",
       "</div>"
      ],
      "text/plain": [
       "        date  orders_B  revenue_B\n",
       "0 2019-08-01        21     101217\n",
       "1 2019-08-02        24     165531\n",
       "2 2019-08-03        16     114248\n",
       "3 2019-08-04        17     108571\n",
       "4 2019-08-05        23      92428"
      ]
     },
     "execution_count": 34,
     "metadata": {},
     "output_type": "execute_result"
    }
   ],
   "source": [
    "# Посчитаем количество заказов и их сумму в группе B на каждую дату\n",
    "orders_daily_B = (\n",
    "    data_orders[data_orders['group'] == 'B'][['date', 'transaction_id', 'visitor_id', 'revenue']]\n",
    "        .groupby('date', as_index=False)\n",
    "        .agg({'transaction_id': pd.Series.nunique, 'revenue': 'sum'})\n",
    ")\n",
    "orders_daily_B.columns = ['date', 'orders_B', 'revenue_B']\n",
    "orders_daily_B.head()"
   ]
  },
  {
   "cell_type": "code",
   "execution_count": 35,
   "metadata": {},
   "outputs": [
    {
     "data": {
      "text/html": [
       "<div>\n",
       "<style scoped>\n",
       "    .dataframe tbody tr th:only-of-type {\n",
       "        vertical-align: middle;\n",
       "    }\n",
       "\n",
       "    .dataframe tbody tr th {\n",
       "        vertical-align: top;\n",
       "    }\n",
       "\n",
       "    .dataframe thead th {\n",
       "        text-align: right;\n",
       "    }\n",
       "</style>\n",
       "<table border=\"1\" class=\"dataframe\">\n",
       "  <thead>\n",
       "    <tr style=\"text-align: right;\">\n",
       "      <th></th>\n",
       "      <th>date</th>\n",
       "      <th>orders_B_sum</th>\n",
       "      <th>revenue_B_sum</th>\n",
       "    </tr>\n",
       "  </thead>\n",
       "  <tbody>\n",
       "    <tr>\n",
       "      <th>0</th>\n",
       "      <td>2019-08-01</td>\n",
       "      <td>21</td>\n",
       "      <td>101217</td>\n",
       "    </tr>\n",
       "    <tr>\n",
       "      <th>1</th>\n",
       "      <td>2019-08-02</td>\n",
       "      <td>45</td>\n",
       "      <td>266748</td>\n",
       "    </tr>\n",
       "    <tr>\n",
       "      <th>2</th>\n",
       "      <td>2019-08-03</td>\n",
       "      <td>61</td>\n",
       "      <td>380996</td>\n",
       "    </tr>\n",
       "    <tr>\n",
       "      <th>3</th>\n",
       "      <td>2019-08-04</td>\n",
       "      <td>78</td>\n",
       "      <td>489567</td>\n",
       "    </tr>\n",
       "    <tr>\n",
       "      <th>4</th>\n",
       "      <td>2019-08-05</td>\n",
       "      <td>101</td>\n",
       "      <td>581995</td>\n",
       "    </tr>\n",
       "  </tbody>\n",
       "</table>\n",
       "</div>"
      ],
      "text/plain": [
       "        date  orders_B_sum  revenue_B_sum\n",
       "0 2019-08-01            21         101217\n",
       "1 2019-08-02            45         266748\n",
       "2 2019-08-03            61         380996\n",
       "3 2019-08-04            78         489567\n",
       "4 2019-08-05           101         581995"
      ]
     },
     "execution_count": 35,
     "metadata": {},
     "output_type": "execute_result"
    }
   ],
   "source": [
    "# Посчитаем количество заказов и их сумму в группе B на каждую дату с накоплением\n",
    "orders_B = orders_daily_B.apply(\n",
    "    lambda x: orders_daily_B[orders_daily_B['date'] <= x['date']].agg(\n",
    "        {'date': 'max', 'orders_B': 'sum', 'revenue_B': 'sum'}\n",
    "    ),\n",
    "    axis=1,\n",
    ").sort_values(by=['date'])\n",
    "orders_B.columns = ['date', 'orders_B_sum', 'revenue_B_sum']\n",
    "orders_B.head()"
   ]
  },
  {
   "cell_type": "code",
   "execution_count": 36,
   "metadata": {},
   "outputs": [
    {
     "data": {
      "text/html": [
       "<div>\n",
       "<style scoped>\n",
       "    .dataframe tbody tr th:only-of-type {\n",
       "        vertical-align: middle;\n",
       "    }\n",
       "\n",
       "    .dataframe tbody tr th {\n",
       "        vertical-align: top;\n",
       "    }\n",
       "\n",
       "    .dataframe thead th {\n",
       "        text-align: right;\n",
       "    }\n",
       "</style>\n",
       "<table border=\"1\" class=\"dataframe\">\n",
       "  <thead>\n",
       "    <tr style=\"text-align: right;\">\n",
       "      <th></th>\n",
       "      <th>date</th>\n",
       "      <th>orders_A</th>\n",
       "      <th>revenue_A</th>\n",
       "      <th>orders_B</th>\n",
       "      <th>revenue_B</th>\n",
       "      <th>orders_A_sum</th>\n",
       "      <th>revenue_A_sum</th>\n",
       "      <th>orders_B_sum</th>\n",
       "      <th>revenue_B_sum</th>\n",
       "      <th>visitors_A</th>\n",
       "      <th>visitors_B</th>\n",
       "      <th>visitors_A_sum</th>\n",
       "      <th>visitors_B_sum</th>\n",
       "    </tr>\n",
       "  </thead>\n",
       "  <tbody>\n",
       "    <tr>\n",
       "      <th>0</th>\n",
       "      <td>2019-08-01</td>\n",
       "      <td>24</td>\n",
       "      <td>148579</td>\n",
       "      <td>21</td>\n",
       "      <td>101217</td>\n",
       "      <td>24</td>\n",
       "      <td>148579</td>\n",
       "      <td>21</td>\n",
       "      <td>101217</td>\n",
       "      <td>719</td>\n",
       "      <td>713</td>\n",
       "      <td>719</td>\n",
       "      <td>713</td>\n",
       "    </tr>\n",
       "    <tr>\n",
       "      <th>1</th>\n",
       "      <td>2019-08-02</td>\n",
       "      <td>20</td>\n",
       "      <td>93822</td>\n",
       "      <td>24</td>\n",
       "      <td>165531</td>\n",
       "      <td>44</td>\n",
       "      <td>242401</td>\n",
       "      <td>45</td>\n",
       "      <td>266748</td>\n",
       "      <td>619</td>\n",
       "      <td>581</td>\n",
       "      <td>1338</td>\n",
       "      <td>1294</td>\n",
       "    </tr>\n",
       "    <tr>\n",
       "      <th>2</th>\n",
       "      <td>2019-08-03</td>\n",
       "      <td>24</td>\n",
       "      <td>112473</td>\n",
       "      <td>16</td>\n",
       "      <td>114248</td>\n",
       "      <td>68</td>\n",
       "      <td>354874</td>\n",
       "      <td>61</td>\n",
       "      <td>380996</td>\n",
       "      <td>507</td>\n",
       "      <td>509</td>\n",
       "      <td>1845</td>\n",
       "      <td>1803</td>\n",
       "    </tr>\n",
       "    <tr>\n",
       "      <th>3</th>\n",
       "      <td>2019-08-04</td>\n",
       "      <td>16</td>\n",
       "      <td>70825</td>\n",
       "      <td>17</td>\n",
       "      <td>108571</td>\n",
       "      <td>84</td>\n",
       "      <td>425699</td>\n",
       "      <td>78</td>\n",
       "      <td>489567</td>\n",
       "      <td>717</td>\n",
       "      <td>770</td>\n",
       "      <td>2562</td>\n",
       "      <td>2573</td>\n",
       "    </tr>\n",
       "    <tr>\n",
       "      <th>4</th>\n",
       "      <td>2019-08-05</td>\n",
       "      <td>25</td>\n",
       "      <td>124218</td>\n",
       "      <td>23</td>\n",
       "      <td>92428</td>\n",
       "      <td>109</td>\n",
       "      <td>549917</td>\n",
       "      <td>101</td>\n",
       "      <td>581995</td>\n",
       "      <td>756</td>\n",
       "      <td>707</td>\n",
       "      <td>3318</td>\n",
       "      <td>3280</td>\n",
       "    </tr>\n",
       "  </tbody>\n",
       "</table>\n",
       "</div>"
      ],
      "text/plain": [
       "        date  orders_A  revenue_A  orders_B  revenue_B  orders_A_sum  \\\n",
       "0 2019-08-01        24     148579        21     101217            24   \n",
       "1 2019-08-02        20      93822        24     165531            44   \n",
       "2 2019-08-03        24     112473        16     114248            68   \n",
       "3 2019-08-04        16      70825        17     108571            84   \n",
       "4 2019-08-05        25     124218        23      92428           109   \n",
       "\n",
       "   revenue_A_sum  orders_B_sum  revenue_B_sum  visitors_A  visitors_B  \\\n",
       "0         148579            21         101217         719         713   \n",
       "1         242401            45         266748         619         581   \n",
       "2         354874            61         380996         507         509   \n",
       "3         425699            78         489567         717         770   \n",
       "4         549917           101         581995         756         707   \n",
       "\n",
       "   visitors_A_sum  visitors_B_sum  \n",
       "0             719             713  \n",
       "1            1338            1294  \n",
       "2            1845            1803  \n",
       "3            2562            2573  \n",
       "4            3318            3280  "
      ]
     },
     "execution_count": 36,
     "metadata": {},
     "output_type": "execute_result"
    }
   ],
   "source": [
    "# Объединим полученные выше данные\n",
    "all_data = (orders_daily_A\n",
    "    .merge(orders_daily_B, left_on='date', right_on='date', how='left')\n",
    "    .merge(orders_A, left_on='date', right_on='date', how='left')\n",
    "    .merge(orders_B, left_on='date', right_on='date', how='left')\n",
    "    .merge(visitors_daily_A, left_on='date', right_on='date', how='left')\n",
    "    .merge(visitors_daily_B, left_on='date', right_on='date', how='left')\n",
    "    .merge(visitors_A, left_on='date', right_on='date', how='left')\n",
    "    .merge(visitors_B, left_on='date', right_on='date', how='left')\n",
    ")\n",
    "all_data.head()"
   ]
  },
  {
   "cell_type": "code",
   "execution_count": 37,
   "metadata": {},
   "outputs": [
    {
     "name": "stdout",
     "output_type": "stream",
     "text": [
      "P-value: 0.017\n",
      "Относительные различия: 0.138\n"
     ]
    }
   ],
   "source": [
    "# Применим критерий и отформатируем p-value, округлив его до трёх знаков после запятой.\n",
    "\n",
    "orders_by_users_A = (\n",
    "    data_orders[data_orders['group'] == 'A']\n",
    "        .groupby('visitor_id', as_index=False)\n",
    "        .agg({'transaction_id': pd.Series.nunique})\n",
    ")\n",
    "orders_by_users_A.columns = ['visitor_id', 'transaction_id']\n",
    "\n",
    "orders_by_users_B = (\n",
    "    data_orders[data_orders['group'] == 'B']\n",
    "        .groupby('visitor_id', as_index=False)\n",
    "        .agg({'transaction_id': pd.Series.nunique})\n",
    ")\n",
    "orders_by_users_B.columns = ['visitor_id', 'transaction_id']\n",
    "\n",
    "sample_A = pd.concat([\n",
    "    orders_by_users_A['transaction_id'], \n",
    "    pd.Series(0, index=np.arange(all_data['visitors_A'].sum() - len(orders_by_users_A['transaction_id'])), name='orders')\n",
    "],axis=0)\n",
    "\n",
    "sample_B = pd.concat([\n",
    "    orders_by_users_B['transaction_id'], \n",
    "    pd.Series(0, index=np.arange(all_data['visitors_B'].sum() - len(orders_by_users_B['transaction_id'])), name='orders')\n",
    "],axis=0)\n",
    "\n",
    "\n",
    "print('P-value:',\"{0:.3f}\".format(stats.mannwhitneyu(sample_A, sample_B)[1]))\n",
    "print('Относительные различия:',\"{0:.3f}\".format(sample_B.mean() / sample_A.mean() - 1))"
   ]
  },
  {
   "cell_type": "markdown",
   "metadata": {},
   "source": [
    "- **P-value** меньше 0.05, значит стоит отвергнуть нулевую гипотезу. \n",
    "- \"Сырые данные\" говорят о том, что в среднем количестве заказов между группами есть статистически значимые различия. \n",
    "- Относительный прирост конверсии в группе В к конверсии в группе А равен 13.8%"
   ]
  },
  {
   "cell_type": "markdown",
   "metadata": {},
   "source": [
    "#### Различия в среднем чеке заказа"
   ]
  },
  {
   "cell_type": "markdown",
   "metadata": {},
   "source": [
    "Посчитаем статистическую значимость различий в среднем чеке заказа между группами по «сырым» данным. Сделаем выводы и предположения."
   ]
  },
  {
   "cell_type": "markdown",
   "metadata": {},
   "source": [
    "Гипотезы:\n",
    "- H0: Средние чеки групп A и B равны, статистически значимых отличий нет.\n",
    "- H1: Средние чеки групп A и B различны, статистически значимые отличия есть."
   ]
  },
  {
   "cell_type": "code",
   "execution_count": 38,
   "metadata": {},
   "outputs": [
    {
     "name": "stdout",
     "output_type": "stream",
     "text": [
      "P-value: 0.729\n",
      "Относительные различия: 0.259\n"
     ]
    }
   ],
   "source": [
    "print('P-value:','{0:.3f}'.format(\n",
    "    stats.mannwhitneyu(\n",
    "        data_orders[data_orders['group']=='A']['revenue'], \n",
    "        data_orders[data_orders['group']=='B']['revenue']\n",
    "    )[1]))\n",
    "\n",
    "print('Относительные различия:','{0:.3f}'.format(\n",
    "    data_orders[data_orders['group']=='B']['revenue'].mean() / \n",
    "    data_orders[data_orders['group']=='A']['revenue'].mean() - 1\n",
    ")) "
   ]
  },
  {
   "cell_type": "markdown",
   "metadata": {},
   "source": [
    "- P-value превышает уровень 0.05, значит статистически значимых отличий в среднем чеке между группами нет\n",
    "- Относительное различие среднего чека между группами около 26%"
   ]
  },
  {
   "cell_type": "markdown",
   "metadata": {},
   "source": [
    "### Расчет статистической значимости по «очищенным» данным"
   ]
  },
  {
   "cell_type": "markdown",
   "metadata": {},
   "source": [
    "#### Различия в среднем количестве заказов на посетителя"
   ]
  },
  {
   "cell_type": "markdown",
   "metadata": {},
   "source": [
    "Посчитаем статистическую значимость различий в среднем количестве заказов на посетителя между группами по «очищенным» данным. Сделаем выводы и предположения."
   ]
  },
  {
   "cell_type": "markdown",
   "metadata": {},
   "source": [
    "На основе выводов из пп.5.7 и 5.9 примем за аномальных пользователей тех, кто совершил хоть раз аномальный заказ размером более 28 тыс, либо всего совершил более 4 заказов."
   ]
  },
  {
   "cell_type": "code",
   "execution_count": 39,
   "metadata": {},
   "outputs": [
    {
     "data": {
      "text/plain": [
       "0    148427295\n",
       "1    204675465\n",
       "2    358944393\n",
       "3    382846391\n",
       "4    393266494\n",
       "Name: visitor_id, dtype: int64"
      ]
     },
     "execution_count": 39,
     "metadata": {},
     "output_type": "execute_result"
    }
   ],
   "source": [
    "users_with_abnormal_orders_count = pd.concat(\n",
    "    [\n",
    "        orders_by_users_A[orders_by_users_A['transaction_id'] > min_normal_orders_count]['visitor_id'],\n",
    "        orders_by_users_B[orders_by_users_B['transaction_id'] > min_normal_orders_count]['visitor_id'],\n",
    "    ],\n",
    "    axis=0,\n",
    ")\n",
    "\n",
    "users_with_abnormal_order_sum = data_orders[data_orders['revenue'] > min_normal_order_sum]['visitor_id']\n",
    "\n",
    "abnormal_users = (\n",
    "    pd.concat([users_with_abnormal_orders_count, users_with_abnormal_order_sum], axis=0)\n",
    "    .drop_duplicates()\n",
    "    .sort_values()\n",
    "    .reset_index(drop=True)\n",
    ")\n",
    "abnormal_users.head()"
   ]
  },
  {
   "cell_type": "code",
   "execution_count": 40,
   "metadata": {},
   "outputs": [
    {
     "data": {
      "text/plain": [
       "0    1\n",
       "1    1\n",
       "2    1\n",
       "3    1\n",
       "4    1\n",
       "dtype: int64"
      ]
     },
     "execution_count": 40,
     "metadata": {},
     "output_type": "execute_result"
    }
   ],
   "source": [
    "# Создадим переменные `sample_A_filtered` и `sample_B_filtered`, \n",
    "# в которых сохраним очищенные данные о заказах — не включая аномальных пользователей. \n",
    "\n",
    "sample_A_filtered = pd.concat(\n",
    "    [\n",
    "        orders_by_users_A[\n",
    "            np.logical_not(orders_by_users_A['visitor_id'].isin(abnormal_users))\n",
    "        ]['transaction_id'],\n",
    "        pd.Series(\n",
    "            0,\n",
    "            index=np.arange(\n",
    "                all_data['visitors_A'].sum() - len(orders_by_users_A['transaction_id'])\n",
    "            ),\n",
    "            name='orders',\n",
    "        ),\n",
    "    ],\n",
    "    axis=0,\n",
    ")\n",
    "sample_A_filtered.head()"
   ]
  },
  {
   "cell_type": "code",
   "execution_count": 41,
   "metadata": {},
   "outputs": [
    {
     "data": {
      "text/plain": [
       "0    1\n",
       "1    1\n",
       "2    1\n",
       "3    1\n",
       "4    1\n",
       "dtype: int64"
      ]
     },
     "execution_count": 41,
     "metadata": {},
     "output_type": "execute_result"
    }
   ],
   "source": [
    "sample_B_filtered = pd.concat(\n",
    "    [\n",
    "        orders_by_users_B[\n",
    "            np.logical_not(orders_by_users_B['visitor_id'].isin(abnormal_users))\n",
    "        ]['transaction_id'],\n",
    "        pd.Series(\n",
    "            0,\n",
    "            index=np.arange(\n",
    "                all_data['visitors_B'].sum() - len(orders_by_users_B['transaction_id'])\n",
    "            ),\n",
    "            name='orders',\n",
    "        ),\n",
    "    ],\n",
    "    axis=0,\n",
    ")\n",
    "sample_B_filtered.head()"
   ]
  },
  {
   "cell_type": "code",
   "execution_count": 42,
   "metadata": {},
   "outputs": [
    {
     "name": "stdout",
     "output_type": "stream",
     "text": [
      "P-value: 0.018\n",
      "Относительные различия: 0.145\n"
     ]
    }
   ],
   "source": [
    "# Выведем p-value для сравнения среднего между очищенными группами. \n",
    "# Округлим p-value до трех знаков после запятой. \n",
    "# Выведем относительный прирост среднего очищенной группы B, округлив до трёх знаков после запятой.\n",
    "print('P-value:','{0:.3f}'.format(stats.mannwhitneyu(sample_A_filtered, sample_B_filtered)[1]))\n",
    "print('Относительные различия:','{0:.3f}'.format(sample_B_filtered.mean() / sample_A_filtered.mean()-1)) "
   ]
  },
  {
   "cell_type": "markdown",
   "metadata": {},
   "source": [
    "- P-value меньше уровня 0.05, значит, как и в случае с сырым данными, статистическая значимость достигнута.\n",
    "- Группа В лучше группы А."
   ]
  },
  {
   "cell_type": "markdown",
   "metadata": {},
   "source": [
    "#### Различия в среднем чеке заказа"
   ]
  },
  {
   "cell_type": "markdown",
   "metadata": {},
   "source": [
    "Посчитаем статистическую значимость различий в среднем чеке заказа между группами по «очищенным» данным. Сделаем выводы и предположения."
   ]
  },
  {
   "cell_type": "code",
   "execution_count": 43,
   "metadata": {},
   "outputs": [
    {
     "name": "stdout",
     "output_type": "stream",
     "text": [
      "P-value: 0.961\n",
      "Относительные различия: -0.014\n"
     ]
    }
   ],
   "source": [
    "print('P-value:',\n",
    "    '{0:.3f}'.format(\n",
    "        stats.mannwhitneyu(\n",
    "            data_orders[\n",
    "                np.logical_and(\n",
    "                    data_orders['group'] == 'A',\n",
    "                    np.logical_not(data_orders['visitor_id'].isin(abnormal_users)),\n",
    "                )\n",
    "            ]['revenue'],\n",
    "            data_orders[\n",
    "                np.logical_and(\n",
    "                    data_orders['group'] == 'B',\n",
    "                    np.logical_not(data_orders['visitor_id'].isin(abnormal_users)),\n",
    "                )\n",
    "            ]['revenue'],\n",
    "        )[1]\n",
    "    )\n",
    ")\n",
    "\n",
    "print('Относительные различия:',\n",
    "    \"{0:.3f}\".format(\n",
    "        data_orders[\n",
    "            np.logical_and(\n",
    "                data_orders['group'] == 'B',\n",
    "                np.logical_not(data_orders['visitor_id'].isin(abnormal_users)),\n",
    "            )\n",
    "        ]['revenue'].mean()\n",
    "        / data_orders[\n",
    "            np.logical_and(\n",
    "                data_orders['group'] == 'A',\n",
    "                np.logical_not(data_orders['visitor_id'].isin(abnormal_users)),\n",
    "            )\n",
    "        ]['revenue'].mean()\n",
    "        - 1\n",
    "    )\n",
    ") "
   ]
  },
  {
   "cell_type": "markdown",
   "metadata": {},
   "source": [
    "- Значение `p-value` превышает порог 0,05 и стало 0.979 вместо 0.729\n",
    "- Относительные различия уменьшились с 26% до 1,7%\n",
    "- Таким образом, в данных стало меньше шума."
   ]
  },
  {
   "cell_type": "markdown",
   "metadata": {},
   "source": [
    "### Решение по результатам теста"
   ]
  },
  {
   "cell_type": "markdown",
   "metadata": {},
   "source": [
    "**Результаты теста:**\n",
    "- Как по сырым данным, так и по очищенным данным мы наблюдаем значимое различие в среднем количестве заказов на посетителя.\n",
    "- Однако статистически значимого различия в среднем чеке заказа между группами ни по «сырым», ни по данным после фильтрации аномалий нет.\n",
    "- Согласно расчитанным значениям относительного изменения среднего количества заказов на посетителя с накоплением в п.5.5, показатели группы B превосходят показатели по группе A примерно на 15%.\n",
    "- Расчеты относительного изменения среднего чека так же показывает превосходство показателей группы B над показателями группы А.\n",
    "\n",
    "**Решение:**\n",
    "На основании результатов теста принимаем решение об остановке теста и фиксации победы группы B."
   ]
  }
 ],
 "metadata": {
  "ExecuteTimeLog": [
   {
    "duration": 1220,
    "start_time": "2024-11-06T11:28:11.353Z"
   },
   {
    "duration": 252,
    "start_time": "2024-11-06T11:28:12.979Z"
   },
   {
    "duration": 22,
    "start_time": "2024-11-06T11:29:00.367Z"
   },
   {
    "duration": 10,
    "start_time": "2024-11-06T11:30:23.230Z"
   },
   {
    "duration": 9,
    "start_time": "2024-11-06T11:33:52.362Z"
   },
   {
    "duration": 9,
    "start_time": "2024-11-06T11:40:35.425Z"
   },
   {
    "duration": 94,
    "start_time": "2024-11-06T11:48:34.012Z"
   },
   {
    "duration": 1124,
    "start_time": "2024-11-06T11:48:45.342Z"
   },
   {
    "duration": 78,
    "start_time": "2024-11-06T11:48:46.468Z"
   },
   {
    "duration": 19,
    "start_time": "2024-11-06T11:48:46.548Z"
   },
   {
    "duration": 9,
    "start_time": "2024-11-06T11:48:46.569Z"
   },
   {
    "duration": 8,
    "start_time": "2024-11-06T11:48:46.580Z"
   },
   {
    "duration": 8,
    "start_time": "2024-11-06T11:48:46.589Z"
   },
   {
    "duration": 127,
    "start_time": "2024-11-06T11:48:46.598Z"
   },
   {
    "duration": 0,
    "start_time": "2024-11-06T11:48:46.727Z"
   },
   {
    "duration": 7,
    "start_time": "2024-11-06T11:49:02.836Z"
   },
   {
    "duration": 1348,
    "start_time": "2024-11-07T05:11:39.868Z"
   },
   {
    "duration": 242,
    "start_time": "2024-11-07T05:11:41.217Z"
   },
   {
    "duration": 22,
    "start_time": "2024-11-07T05:11:41.461Z"
   },
   {
    "duration": 11,
    "start_time": "2024-11-07T05:11:41.484Z"
   },
   {
    "duration": 10,
    "start_time": "2024-11-07T05:11:41.497Z"
   },
   {
    "duration": 19,
    "start_time": "2024-11-07T05:11:41.508Z"
   },
   {
    "duration": 31,
    "start_time": "2024-11-07T05:11:41.528Z"
   },
   {
    "duration": 58,
    "start_time": "2024-11-07T05:19:58.214Z"
   },
   {
    "duration": 1175,
    "start_time": "2024-11-07T05:57:07.461Z"
   },
   {
    "duration": 77,
    "start_time": "2024-11-07T05:57:08.638Z"
   },
   {
    "duration": 19,
    "start_time": "2024-11-07T05:57:08.717Z"
   },
   {
    "duration": 12,
    "start_time": "2024-11-07T05:57:08.738Z"
   },
   {
    "duration": 9,
    "start_time": "2024-11-07T05:57:08.752Z"
   },
   {
    "duration": 14,
    "start_time": "2024-11-07T05:57:08.763Z"
   },
   {
    "duration": 6,
    "start_time": "2024-11-07T05:57:08.779Z"
   },
   {
    "duration": 8,
    "start_time": "2024-11-07T06:17:29.764Z"
   },
   {
    "duration": 98,
    "start_time": "2024-11-07T06:19:09.735Z"
   },
   {
    "duration": 12,
    "start_time": "2024-11-07T06:19:27.365Z"
   },
   {
    "duration": 12,
    "start_time": "2024-11-07T06:23:18.864Z"
   },
   {
    "duration": 6,
    "start_time": "2024-11-07T06:27:44.875Z"
   },
   {
    "duration": 10,
    "start_time": "2024-11-07T06:28:28.161Z"
   },
   {
    "duration": 6,
    "start_time": "2024-11-07T06:28:38.801Z"
   },
   {
    "duration": 8,
    "start_time": "2024-11-07T06:44:13.173Z"
   },
   {
    "duration": 6,
    "start_time": "2024-11-07T06:44:23.945Z"
   },
   {
    "duration": 13,
    "start_time": "2024-11-07T06:44:34.938Z"
   },
   {
    "duration": 172,
    "start_time": "2024-11-07T06:44:47.068Z"
   },
   {
    "duration": 137,
    "start_time": "2024-11-07T06:45:01.080Z"
   },
   {
    "duration": 13,
    "start_time": "2024-11-07T06:45:10.751Z"
   },
   {
    "duration": 10,
    "start_time": "2024-11-07T06:50:25.532Z"
   },
   {
    "duration": 330,
    "start_time": "2024-11-07T06:50:46.579Z"
   },
   {
    "duration": 249,
    "start_time": "2024-11-07T06:52:37.151Z"
   },
   {
    "duration": 242,
    "start_time": "2024-11-07T06:56:11.646Z"
   },
   {
    "duration": 234,
    "start_time": "2024-11-07T06:56:22.732Z"
   },
   {
    "duration": 18,
    "start_time": "2024-11-07T07:07:21.240Z"
   },
   {
    "duration": 348,
    "start_time": "2024-11-07T07:07:37.323Z"
   },
   {
    "duration": 343,
    "start_time": "2024-11-07T07:08:26.607Z"
   },
   {
    "duration": 280,
    "start_time": "2024-11-07T07:13:23.950Z"
   },
   {
    "duration": 500,
    "start_time": "2024-11-07T07:20:53.586Z"
   },
   {
    "duration": 9,
    "start_time": "2024-11-07T07:25:53.497Z"
   },
   {
    "duration": 11,
    "start_time": "2024-11-07T07:27:25.148Z"
   },
   {
    "duration": 159,
    "start_time": "2024-11-07T07:28:02.534Z"
   },
   {
    "duration": 5,
    "start_time": "2024-11-07T07:29:52.675Z"
   },
   {
    "duration": 5,
    "start_time": "2024-11-07T07:30:09.206Z"
   },
   {
    "duration": 5,
    "start_time": "2024-11-07T07:30:20.280Z"
   },
   {
    "duration": 5,
    "start_time": "2024-11-07T07:30:45.494Z"
   },
   {
    "duration": 163,
    "start_time": "2024-11-07T07:32:32.258Z"
   },
   {
    "duration": 6,
    "start_time": "2024-11-07T07:33:20.859Z"
   },
   {
    "duration": 163,
    "start_time": "2024-11-07T07:49:06.953Z"
   },
   {
    "duration": 9,
    "start_time": "2024-11-07T09:56:01.117Z"
   },
   {
    "duration": 6,
    "start_time": "2024-11-07T09:56:13.089Z"
   },
   {
    "duration": 51,
    "start_time": "2024-11-07T10:08:02.480Z"
   },
   {
    "duration": 50,
    "start_time": "2024-11-07T10:10:02.951Z"
   },
   {
    "duration": 66,
    "start_time": "2024-11-07T10:14:59.250Z"
   },
   {
    "duration": 68,
    "start_time": "2024-11-07T10:15:12.342Z"
   },
   {
    "duration": 73,
    "start_time": "2024-11-07T10:16:14.792Z"
   },
   {
    "duration": 9,
    "start_time": "2024-11-07T10:32:19.873Z"
   },
   {
    "duration": 51,
    "start_time": "2024-11-07T10:32:25.262Z"
   },
   {
    "duration": 8,
    "start_time": "2024-11-07T10:33:16.070Z"
   },
   {
    "duration": 51,
    "start_time": "2024-11-07T10:33:51.101Z"
   },
   {
    "duration": 10,
    "start_time": "2024-11-07T10:33:55.085Z"
   },
   {
    "duration": 51,
    "start_time": "2024-11-07T10:33:55.744Z"
   },
   {
    "duration": 19,
    "start_time": "2024-11-07T10:35:18.938Z"
   },
   {
    "duration": 53,
    "start_time": "2024-11-07T10:36:18.311Z"
   },
   {
    "duration": 19,
    "start_time": "2024-11-07T10:37:19.085Z"
   },
   {
    "duration": 53,
    "start_time": "2024-11-07T10:37:21.439Z"
   },
   {
    "duration": 32,
    "start_time": "2024-11-07T10:39:46.143Z"
   },
   {
    "duration": 1304,
    "start_time": "2024-11-07T10:47:18.882Z"
   },
   {
    "duration": 164,
    "start_time": "2024-11-07T10:48:05.891Z"
   },
   {
    "duration": 3,
    "start_time": "2024-11-07T10:49:56.914Z"
   },
   {
    "duration": 155,
    "start_time": "2024-11-07T10:50:03.886Z"
   },
   {
    "duration": 13,
    "start_time": "2024-11-07T10:55:14.017Z"
   },
   {
    "duration": 10,
    "start_time": "2024-11-07T10:55:41.633Z"
   },
   {
    "duration": 12,
    "start_time": "2024-11-07T10:55:50.211Z"
   },
   {
    "duration": 9,
    "start_time": "2024-11-07T11:11:27.561Z"
   },
   {
    "duration": 9,
    "start_time": "2024-11-07T11:11:37.941Z"
   },
   {
    "duration": 13,
    "start_time": "2024-11-07T11:14:02.886Z"
   },
   {
    "duration": 12,
    "start_time": "2024-11-07T11:15:14.251Z"
   },
   {
    "duration": 1374,
    "start_time": "2024-11-07T11:20:00.116Z"
   },
   {
    "duration": 10,
    "start_time": "2024-11-07T11:20:16.840Z"
   },
   {
    "duration": 8,
    "start_time": "2024-11-07T11:20:45.798Z"
   },
   {
    "duration": 8,
    "start_time": "2024-11-07T11:21:04.501Z"
   },
   {
    "duration": 8,
    "start_time": "2024-11-07T11:21:24.017Z"
   },
   {
    "duration": 8,
    "start_time": "2024-11-07T11:21:38.937Z"
   },
   {
    "duration": 24,
    "start_time": "2024-11-07T11:22:46.446Z"
   },
   {
    "duration": 12,
    "start_time": "2024-11-07T11:24:50.810Z"
   },
   {
    "duration": 14,
    "start_time": "2024-11-07T11:25:17.621Z"
   },
   {
    "duration": 1367,
    "start_time": "2024-11-08T06:32:47.634Z"
   },
   {
    "duration": 228,
    "start_time": "2024-11-08T06:32:49.003Z"
   },
   {
    "duration": 23,
    "start_time": "2024-11-08T06:32:49.233Z"
   },
   {
    "duration": 13,
    "start_time": "2024-11-08T06:32:49.259Z"
   },
   {
    "duration": 11,
    "start_time": "2024-11-08T06:32:49.273Z"
   },
   {
    "duration": 10,
    "start_time": "2024-11-08T06:32:49.285Z"
   },
   {
    "duration": 37,
    "start_time": "2024-11-08T06:32:49.296Z"
   },
   {
    "duration": 7,
    "start_time": "2024-11-08T06:32:49.334Z"
   },
   {
    "duration": 4,
    "start_time": "2024-11-08T06:32:49.343Z"
   },
   {
    "duration": 4,
    "start_time": "2024-11-08T06:32:49.350Z"
   },
   {
    "duration": 12,
    "start_time": "2024-11-08T06:32:49.355Z"
   },
   {
    "duration": 15,
    "start_time": "2024-11-08T06:32:49.368Z"
   },
   {
    "duration": 41,
    "start_time": "2024-11-08T06:32:49.385Z"
   },
   {
    "duration": 12,
    "start_time": "2024-11-08T06:32:49.427Z"
   },
   {
    "duration": 138,
    "start_time": "2024-11-08T06:32:49.441Z"
   },
   {
    "duration": 0,
    "start_time": "2024-11-08T06:32:49.582Z"
   },
   {
    "duration": 0,
    "start_time": "2024-11-08T06:32:49.583Z"
   },
   {
    "duration": 0,
    "start_time": "2024-11-08T06:32:49.584Z"
   },
   {
    "duration": 0,
    "start_time": "2024-11-08T06:32:49.585Z"
   },
   {
    "duration": 0,
    "start_time": "2024-11-08T06:32:49.586Z"
   },
   {
    "duration": 0,
    "start_time": "2024-11-08T06:32:49.587Z"
   },
   {
    "duration": 0,
    "start_time": "2024-11-08T06:32:49.589Z"
   },
   {
    "duration": 0,
    "start_time": "2024-11-08T06:32:49.590Z"
   },
   {
    "duration": 0,
    "start_time": "2024-11-08T06:32:49.591Z"
   },
   {
    "duration": 0,
    "start_time": "2024-11-08T06:32:49.592Z"
   },
   {
    "duration": 0,
    "start_time": "2024-11-08T06:32:49.593Z"
   },
   {
    "duration": 0,
    "start_time": "2024-11-08T06:32:49.594Z"
   },
   {
    "duration": 0,
    "start_time": "2024-11-08T06:32:49.621Z"
   },
   {
    "duration": 0,
    "start_time": "2024-11-08T06:32:49.622Z"
   },
   {
    "duration": 0,
    "start_time": "2024-11-08T06:32:49.623Z"
   },
   {
    "duration": 0,
    "start_time": "2024-11-08T06:32:49.624Z"
   },
   {
    "duration": 0,
    "start_time": "2024-11-08T06:32:49.626Z"
   },
   {
    "duration": 0,
    "start_time": "2024-11-08T06:32:49.627Z"
   },
   {
    "duration": 0,
    "start_time": "2024-11-08T06:32:49.628Z"
   },
   {
    "duration": 0,
    "start_time": "2024-11-08T06:32:49.629Z"
   },
   {
    "duration": 0,
    "start_time": "2024-11-08T06:32:49.630Z"
   },
   {
    "duration": 0,
    "start_time": "2024-11-08T06:32:49.631Z"
   },
   {
    "duration": 0,
    "start_time": "2024-11-08T06:32:49.632Z"
   },
   {
    "duration": 0,
    "start_time": "2024-11-08T06:32:49.633Z"
   },
   {
    "duration": 0,
    "start_time": "2024-11-08T06:32:49.635Z"
   },
   {
    "duration": 0,
    "start_time": "2024-11-08T06:32:49.636Z"
   },
   {
    "duration": 0,
    "start_time": "2024-11-08T06:32:49.637Z"
   },
   {
    "duration": 0,
    "start_time": "2024-11-08T06:32:49.638Z"
   },
   {
    "duration": 166,
    "start_time": "2024-11-08T06:36:44.811Z"
   },
   {
    "duration": 1192,
    "start_time": "2024-11-08T06:36:59.147Z"
   },
   {
    "duration": 80,
    "start_time": "2024-11-08T06:37:00.341Z"
   },
   {
    "duration": 22,
    "start_time": "2024-11-08T06:37:00.423Z"
   },
   {
    "duration": 49,
    "start_time": "2024-11-08T06:37:00.447Z"
   },
   {
    "duration": 60,
    "start_time": "2024-11-08T06:37:00.498Z"
   },
   {
    "duration": 68,
    "start_time": "2024-11-08T06:37:00.560Z"
   },
   {
    "duration": 50,
    "start_time": "2024-11-08T06:37:00.630Z"
   },
   {
    "duration": 28,
    "start_time": "2024-11-08T06:37:00.682Z"
   },
   {
    "duration": 24,
    "start_time": "2024-11-08T06:37:00.711Z"
   },
   {
    "duration": 34,
    "start_time": "2024-11-08T06:37:00.737Z"
   },
   {
    "duration": 20,
    "start_time": "2024-11-08T06:37:00.773Z"
   },
   {
    "duration": 31,
    "start_time": "2024-11-08T06:37:00.794Z"
   },
   {
    "duration": 23,
    "start_time": "2024-11-08T06:37:00.827Z"
   },
   {
    "duration": 32,
    "start_time": "2024-11-08T06:37:00.853Z"
   },
   {
    "duration": 173,
    "start_time": "2024-11-08T06:37:00.886Z"
   },
   {
    "duration": 135,
    "start_time": "2024-11-08T06:37:01.061Z"
   },
   {
    "duration": 29,
    "start_time": "2024-11-08T06:37:01.198Z"
   },
   {
    "duration": 397,
    "start_time": "2024-11-08T06:37:01.228Z"
   },
   {
    "duration": 251,
    "start_time": "2024-11-08T06:37:01.627Z"
   },
   {
    "duration": 353,
    "start_time": "2024-11-08T06:37:01.879Z"
   },
   {
    "duration": 250,
    "start_time": "2024-11-08T06:37:02.234Z"
   },
   {
    "duration": 432,
    "start_time": "2024-11-08T06:37:02.486Z"
   },
   {
    "duration": 14,
    "start_time": "2024-11-08T06:37:02.921Z"
   },
   {
    "duration": 165,
    "start_time": "2024-11-08T06:37:02.937Z"
   },
   {
    "duration": 5,
    "start_time": "2024-11-08T06:37:03.104Z"
   },
   {
    "duration": 176,
    "start_time": "2024-11-08T06:37:03.110Z"
   },
   {
    "duration": 5,
    "start_time": "2024-11-08T06:37:03.287Z"
   },
   {
    "duration": 55,
    "start_time": "2024-11-08T06:37:03.293Z"
   },
   {
    "duration": 63,
    "start_time": "2024-11-08T06:37:03.349Z"
   },
   {
    "duration": 50,
    "start_time": "2024-11-08T06:37:03.413Z"
   },
   {
    "duration": 65,
    "start_time": "2024-11-08T06:37:03.465Z"
   },
   {
    "duration": 52,
    "start_time": "2024-11-08T06:37:03.531Z"
   },
   {
    "duration": 58,
    "start_time": "2024-11-08T06:37:03.585Z"
   },
   {
    "duration": 36,
    "start_time": "2024-11-08T06:37:03.645Z"
   },
   {
    "duration": 84,
    "start_time": "2024-11-08T06:37:03.683Z"
   },
   {
    "duration": 94,
    "start_time": "2024-11-08T06:37:03.769Z"
   },
   {
    "duration": 172,
    "start_time": "2024-11-08T06:37:03.865Z"
   },
   {
    "duration": 10,
    "start_time": "2024-11-08T06:37:04.039Z"
   },
   {
    "duration": 17,
    "start_time": "2024-11-08T06:37:04.051Z"
   },
   {
    "duration": 12,
    "start_time": "2024-11-08T06:37:04.070Z"
   },
   {
    "duration": 15,
    "start_time": "2024-11-08T06:37:04.086Z"
   },
   {
    "duration": 38,
    "start_time": "2024-11-08T06:37:04.102Z"
   },
   {
    "duration": 14,
    "start_time": "2024-11-08T06:37:04.142Z"
   },
   {
    "duration": 1330,
    "start_time": "2024-11-09T06:46:00.517Z"
   },
   {
    "duration": 237,
    "start_time": "2024-11-09T06:46:01.848Z"
   },
   {
    "duration": 31,
    "start_time": "2024-11-09T06:46:02.087Z"
   },
   {
    "duration": 12,
    "start_time": "2024-11-09T06:46:02.120Z"
   },
   {
    "duration": 19,
    "start_time": "2024-11-09T06:46:02.134Z"
   },
   {
    "duration": 84,
    "start_time": "2024-11-09T06:46:02.154Z"
   },
   {
    "duration": 77,
    "start_time": "2024-11-09T06:46:02.240Z"
   },
   {
    "duration": 11,
    "start_time": "2024-11-09T06:46:02.319Z"
   },
   {
    "duration": 51,
    "start_time": "2024-11-09T06:46:02.332Z"
   },
   {
    "duration": 20,
    "start_time": "2024-11-09T06:46:02.385Z"
   },
   {
    "duration": 55,
    "start_time": "2024-11-09T06:46:02.412Z"
   },
   {
    "duration": 59,
    "start_time": "2024-11-09T06:46:02.468Z"
   },
   {
    "duration": 10,
    "start_time": "2024-11-09T06:46:02.528Z"
   },
   {
    "duration": 42,
    "start_time": "2024-11-09T06:46:02.541Z"
   },
   {
    "duration": 244,
    "start_time": "2024-11-09T06:46:02.585Z"
   },
   {
    "duration": 120,
    "start_time": "2024-11-09T06:46:02.830Z"
   },
   {
    "duration": 11,
    "start_time": "2024-11-09T06:46:02.952Z"
   },
   {
    "duration": 336,
    "start_time": "2024-11-09T06:46:02.965Z"
   },
   {
    "duration": 251,
    "start_time": "2024-11-09T06:46:03.303Z"
   },
   {
    "duration": 370,
    "start_time": "2024-11-09T06:46:03.555Z"
   },
   {
    "duration": 221,
    "start_time": "2024-11-09T06:46:03.927Z"
   },
   {
    "duration": 332,
    "start_time": "2024-11-09T06:46:04.150Z"
   },
   {
    "duration": 24,
    "start_time": "2024-11-09T06:46:04.484Z"
   },
   {
    "duration": 137,
    "start_time": "2024-11-09T06:46:04.509Z"
   },
   {
    "duration": 5,
    "start_time": "2024-11-09T06:46:04.648Z"
   },
   {
    "duration": 168,
    "start_time": "2024-11-09T06:46:04.654Z"
   },
   {
    "duration": 5,
    "start_time": "2024-11-09T06:46:04.823Z"
   },
   {
    "duration": 17,
    "start_time": "2024-11-09T06:46:04.829Z"
   },
   {
    "duration": 71,
    "start_time": "2024-11-09T06:46:04.847Z"
   },
   {
    "duration": 31,
    "start_time": "2024-11-09T06:46:04.919Z"
   },
   {
    "duration": 108,
    "start_time": "2024-11-09T06:46:04.952Z"
   },
   {
    "duration": 41,
    "start_time": "2024-11-09T06:46:05.061Z"
   },
   {
    "duration": 55,
    "start_time": "2024-11-09T06:46:05.103Z"
   },
   {
    "duration": 46,
    "start_time": "2024-11-09T06:46:05.159Z"
   },
   {
    "duration": 68,
    "start_time": "2024-11-09T06:46:05.207Z"
   },
   {
    "duration": 126,
    "start_time": "2024-11-09T06:46:05.276Z"
   },
   {
    "duration": 163,
    "start_time": "2024-11-09T06:46:05.403Z"
   },
   {
    "duration": 8,
    "start_time": "2024-11-09T06:46:05.567Z"
   },
   {
    "duration": 29,
    "start_time": "2024-11-09T06:46:05.577Z"
   },
   {
    "duration": 9,
    "start_time": "2024-11-09T06:46:05.617Z"
   },
   {
    "duration": 7,
    "start_time": "2024-11-09T06:46:05.629Z"
   },
   {
    "duration": 25,
    "start_time": "2024-11-09T06:46:05.637Z"
   },
   {
    "duration": 29,
    "start_time": "2024-11-09T06:46:05.664Z"
   },
   {
    "duration": 1071,
    "start_time": "2024-11-09T08:51:53.789Z"
   },
   {
    "duration": 75,
    "start_time": "2024-11-09T08:51:54.862Z"
   },
   {
    "duration": 29,
    "start_time": "2024-11-09T08:51:54.938Z"
   },
   {
    "duration": 8,
    "start_time": "2024-11-09T08:51:54.969Z"
   },
   {
    "duration": 23,
    "start_time": "2024-11-09T08:51:54.979Z"
   },
   {
    "duration": 32,
    "start_time": "2024-11-09T08:51:55.003Z"
   },
   {
    "duration": 29,
    "start_time": "2024-11-09T08:51:55.036Z"
   },
   {
    "duration": 19,
    "start_time": "2024-11-09T08:51:55.067Z"
   },
   {
    "duration": 37,
    "start_time": "2024-11-09T08:51:55.088Z"
   },
   {
    "duration": 9,
    "start_time": "2024-11-09T08:51:55.126Z"
   },
   {
    "duration": 10,
    "start_time": "2024-11-09T08:51:55.137Z"
   },
   {
    "duration": 26,
    "start_time": "2024-11-09T08:51:55.149Z"
   },
   {
    "duration": 14,
    "start_time": "2024-11-09T08:51:55.177Z"
   },
   {
    "duration": 10,
    "start_time": "2024-11-09T08:51:55.195Z"
   },
   {
    "duration": 173,
    "start_time": "2024-11-09T08:51:55.207Z"
   },
   {
    "duration": 108,
    "start_time": "2024-11-09T08:51:55.382Z"
   },
   {
    "duration": 22,
    "start_time": "2024-11-09T08:51:55.491Z"
   },
   {
    "duration": 349,
    "start_time": "2024-11-09T08:51:55.514Z"
   },
   {
    "duration": 225,
    "start_time": "2024-11-09T08:51:55.865Z"
   },
   {
    "duration": 342,
    "start_time": "2024-11-09T08:51:56.091Z"
   },
   {
    "duration": 213,
    "start_time": "2024-11-09T08:51:56.435Z"
   },
   {
    "duration": 336,
    "start_time": "2024-11-09T08:51:56.649Z"
   },
   {
    "duration": 20,
    "start_time": "2024-11-09T08:51:56.987Z"
   },
   {
    "duration": 134,
    "start_time": "2024-11-09T08:51:57.009Z"
   },
   {
    "duration": 4,
    "start_time": "2024-11-09T08:51:57.144Z"
   },
   {
    "duration": 177,
    "start_time": "2024-11-09T08:51:57.150Z"
   },
   {
    "duration": 6,
    "start_time": "2024-11-09T08:51:57.329Z"
   },
   {
    "duration": 8,
    "start_time": "2024-11-09T08:51:57.337Z"
   },
   {
    "duration": 61,
    "start_time": "2024-11-09T08:51:57.347Z"
   },
   {
    "duration": 7,
    "start_time": "2024-11-09T08:51:57.410Z"
   },
   {
    "duration": 41,
    "start_time": "2024-11-09T08:51:57.419Z"
   },
   {
    "duration": 16,
    "start_time": "2024-11-09T08:51:57.462Z"
   },
   {
    "duration": 69,
    "start_time": "2024-11-09T08:51:57.479Z"
   },
   {
    "duration": 20,
    "start_time": "2024-11-09T08:51:57.550Z"
   },
   {
    "duration": 60,
    "start_time": "2024-11-09T08:51:57.571Z"
   },
   {
    "duration": 31,
    "start_time": "2024-11-09T08:51:57.636Z"
   },
   {
    "duration": 155,
    "start_time": "2024-11-09T08:51:57.668Z"
   },
   {
    "duration": 9,
    "start_time": "2024-11-09T08:51:57.824Z"
   },
   {
    "duration": 11,
    "start_time": "2024-11-09T08:51:57.834Z"
   },
   {
    "duration": 7,
    "start_time": "2024-11-09T08:51:57.846Z"
   },
   {
    "duration": 6,
    "start_time": "2024-11-09T08:51:57.856Z"
   },
   {
    "duration": 46,
    "start_time": "2024-11-09T08:51:57.863Z"
   },
   {
    "duration": 12,
    "start_time": "2024-11-09T08:51:57.911Z"
   },
   {
    "duration": 65,
    "start_time": "2024-11-09T11:49:11.243Z"
   },
   {
    "duration": 1215,
    "start_time": "2024-11-10T18:30:56.183Z"
   },
   {
    "duration": 223,
    "start_time": "2024-11-10T18:30:57.400Z"
   },
   {
    "duration": 17,
    "start_time": "2024-11-10T18:30:57.625Z"
   },
   {
    "duration": 10,
    "start_time": "2024-11-10T18:30:57.643Z"
   },
   {
    "duration": 15,
    "start_time": "2024-11-10T18:30:57.655Z"
   },
   {
    "duration": 7,
    "start_time": "2024-11-10T18:30:57.672Z"
   },
   {
    "duration": 16,
    "start_time": "2024-11-10T18:30:57.680Z"
   },
   {
    "duration": 7,
    "start_time": "2024-11-10T18:30:57.697Z"
   },
   {
    "duration": 4,
    "start_time": "2024-11-10T18:30:57.705Z"
   },
   {
    "duration": 14,
    "start_time": "2024-11-10T18:30:57.710Z"
   },
   {
    "duration": 23,
    "start_time": "2024-11-10T18:30:57.725Z"
   },
   {
    "duration": 10,
    "start_time": "2024-11-10T18:30:57.749Z"
   },
   {
    "duration": 9,
    "start_time": "2024-11-10T18:30:57.760Z"
   },
   {
    "duration": 15,
    "start_time": "2024-11-10T18:30:57.771Z"
   },
   {
    "duration": 163,
    "start_time": "2024-11-10T18:30:57.787Z"
   },
   {
    "duration": 115,
    "start_time": "2024-11-10T18:30:57.951Z"
   },
   {
    "duration": 11,
    "start_time": "2024-11-10T18:30:58.068Z"
   },
   {
    "duration": 310,
    "start_time": "2024-11-10T18:30:58.080Z"
   },
   {
    "duration": 211,
    "start_time": "2024-11-10T18:30:58.391Z"
   },
   {
    "duration": 392,
    "start_time": "2024-11-10T18:30:58.604Z"
   },
   {
    "duration": 201,
    "start_time": "2024-11-10T18:30:58.997Z"
   },
   {
    "duration": 325,
    "start_time": "2024-11-10T18:30:59.200Z"
   },
   {
    "duration": 10,
    "start_time": "2024-11-10T18:30:59.526Z"
   },
   {
    "duration": 132,
    "start_time": "2024-11-10T18:30:59.537Z"
   },
   {
    "duration": 95,
    "start_time": "2024-11-10T18:30:59.671Z"
   },
   {
    "duration": 0,
    "start_time": "2024-11-10T18:30:59.767Z"
   },
   {
    "duration": 0,
    "start_time": "2024-11-10T18:30:59.768Z"
   },
   {
    "duration": 0,
    "start_time": "2024-11-10T18:30:59.769Z"
   },
   {
    "duration": 0,
    "start_time": "2024-11-10T18:30:59.770Z"
   },
   {
    "duration": 0,
    "start_time": "2024-11-10T18:30:59.771Z"
   },
   {
    "duration": 0,
    "start_time": "2024-11-10T18:30:59.772Z"
   },
   {
    "duration": 0,
    "start_time": "2024-11-10T18:30:59.773Z"
   },
   {
    "duration": 0,
    "start_time": "2024-11-10T18:30:59.773Z"
   },
   {
    "duration": 0,
    "start_time": "2024-11-10T18:30:59.774Z"
   },
   {
    "duration": 0,
    "start_time": "2024-11-10T18:30:59.775Z"
   },
   {
    "duration": 0,
    "start_time": "2024-11-10T18:30:59.776Z"
   },
   {
    "duration": 0,
    "start_time": "2024-11-10T18:30:59.777Z"
   },
   {
    "duration": 0,
    "start_time": "2024-11-10T18:30:59.778Z"
   },
   {
    "duration": 0,
    "start_time": "2024-11-10T18:30:59.779Z"
   },
   {
    "duration": 0,
    "start_time": "2024-11-10T18:30:59.780Z"
   },
   {
    "duration": 0,
    "start_time": "2024-11-10T18:30:59.780Z"
   },
   {
    "duration": 0,
    "start_time": "2024-11-10T18:30:59.781Z"
   },
   {
    "duration": 0,
    "start_time": "2024-11-10T18:30:59.782Z"
   },
   {
    "duration": 11,
    "start_time": "2024-11-10T18:32:38.606Z"
   },
   {
    "duration": 8,
    "start_time": "2024-11-10T18:33:14.952Z"
   },
   {
    "duration": 5,
    "start_time": "2024-11-10T18:33:27.843Z"
   },
   {
    "duration": 8,
    "start_time": "2024-11-10T18:33:41.177Z"
   },
   {
    "duration": 5,
    "start_time": "2024-11-10T18:33:53.582Z"
   },
   {
    "duration": 5,
    "start_time": "2024-11-10T18:34:12.286Z"
   },
   {
    "duration": 5,
    "start_time": "2024-11-10T18:34:20.975Z"
   },
   {
    "duration": 4,
    "start_time": "2024-11-10T18:34:58.533Z"
   },
   {
    "duration": 4,
    "start_time": "2024-11-10T18:35:21.709Z"
   },
   {
    "duration": 5,
    "start_time": "2024-11-10T18:35:42.664Z"
   },
   {
    "duration": 148,
    "start_time": "2024-11-10T18:35:42.670Z"
   },
   {
    "duration": 3,
    "start_time": "2024-11-10T18:35:42.819Z"
   },
   {
    "duration": 17,
    "start_time": "2024-11-10T18:35:42.824Z"
   },
   {
    "duration": 66,
    "start_time": "2024-11-10T18:35:42.842Z"
   },
   {
    "duration": 8,
    "start_time": "2024-11-10T18:35:42.911Z"
   },
   {
    "duration": 47,
    "start_time": "2024-11-10T18:35:42.920Z"
   },
   {
    "duration": 25,
    "start_time": "2024-11-10T18:35:42.968Z"
   },
   {
    "duration": 46,
    "start_time": "2024-11-10T18:35:42.996Z"
   },
   {
    "duration": 16,
    "start_time": "2024-11-10T18:35:43.048Z"
   },
   {
    "duration": 47,
    "start_time": "2024-11-10T18:35:43.065Z"
   },
   {
    "duration": 45,
    "start_time": "2024-11-10T18:35:43.113Z"
   },
   {
    "duration": 148,
    "start_time": "2024-11-10T18:35:43.160Z"
   },
   {
    "duration": 9,
    "start_time": "2024-11-10T18:35:43.310Z"
   },
   {
    "duration": 16,
    "start_time": "2024-11-10T18:35:43.320Z"
   },
   {
    "duration": 14,
    "start_time": "2024-11-10T18:35:43.337Z"
   },
   {
    "duration": 6,
    "start_time": "2024-11-10T18:35:43.352Z"
   },
   {
    "duration": 22,
    "start_time": "2024-11-10T18:35:43.359Z"
   },
   {
    "duration": 11,
    "start_time": "2024-11-10T18:35:43.383Z"
   },
   {
    "duration": 4,
    "start_time": "2024-11-10T18:36:53.633Z"
   },
   {
    "duration": 4,
    "start_time": "2024-11-10T18:37:37.467Z"
   },
   {
    "duration": 4,
    "start_time": "2024-11-10T18:37:53.129Z"
   },
   {
    "duration": 997,
    "start_time": "2024-11-10T18:40:50.551Z"
   },
   {
    "duration": 78,
    "start_time": "2024-11-10T18:40:51.549Z"
   },
   {
    "duration": 17,
    "start_time": "2024-11-10T18:40:51.628Z"
   },
   {
    "duration": 9,
    "start_time": "2024-11-10T18:40:51.647Z"
   },
   {
    "duration": 27,
    "start_time": "2024-11-10T18:40:51.657Z"
   },
   {
    "duration": 19,
    "start_time": "2024-11-10T18:40:51.685Z"
   },
   {
    "duration": 21,
    "start_time": "2024-11-10T18:40:51.705Z"
   },
   {
    "duration": 17,
    "start_time": "2024-11-10T18:40:51.727Z"
   },
   {
    "duration": 39,
    "start_time": "2024-11-10T18:40:51.745Z"
   },
   {
    "duration": 11,
    "start_time": "2024-11-10T18:40:51.786Z"
   },
   {
    "duration": 12,
    "start_time": "2024-11-10T18:40:51.798Z"
   },
   {
    "duration": 10,
    "start_time": "2024-11-10T18:40:51.811Z"
   },
   {
    "duration": 10,
    "start_time": "2024-11-10T18:40:51.822Z"
   },
   {
    "duration": 23,
    "start_time": "2024-11-10T18:40:51.834Z"
   },
   {
    "duration": 167,
    "start_time": "2024-11-10T18:40:51.858Z"
   },
   {
    "duration": 110,
    "start_time": "2024-11-10T18:40:52.027Z"
   },
   {
    "duration": 12,
    "start_time": "2024-11-10T18:40:52.147Z"
   },
   {
    "duration": 294,
    "start_time": "2024-11-10T18:40:52.160Z"
   },
   {
    "duration": 221,
    "start_time": "2024-11-10T18:40:52.455Z"
   },
   {
    "duration": 316,
    "start_time": "2024-11-10T18:40:52.677Z"
   },
   {
    "duration": 205,
    "start_time": "2024-11-10T18:40:52.995Z"
   },
   {
    "duration": 327,
    "start_time": "2024-11-10T18:40:53.202Z"
   },
   {
    "duration": 18,
    "start_time": "2024-11-10T18:40:53.530Z"
   },
   {
    "duration": 124,
    "start_time": "2024-11-10T18:40:53.549Z"
   },
   {
    "duration": 4,
    "start_time": "2024-11-10T18:40:53.674Z"
   },
   {
    "duration": 149,
    "start_time": "2024-11-10T18:40:53.679Z"
   },
   {
    "duration": 5,
    "start_time": "2024-11-10T18:40:53.829Z"
   },
   {
    "duration": 18,
    "start_time": "2024-11-10T18:40:53.837Z"
   },
   {
    "duration": 45,
    "start_time": "2024-11-10T18:40:53.857Z"
   },
   {
    "duration": 17,
    "start_time": "2024-11-10T18:40:53.903Z"
   },
   {
    "duration": 51,
    "start_time": "2024-11-10T18:40:53.921Z"
   },
   {
    "duration": 20,
    "start_time": "2024-11-10T18:40:53.974Z"
   },
   {
    "duration": 57,
    "start_time": "2024-11-10T18:40:53.996Z"
   },
   {
    "duration": 17,
    "start_time": "2024-11-10T18:40:54.055Z"
   },
   {
    "duration": 45,
    "start_time": "2024-11-10T18:40:54.073Z"
   },
   {
    "duration": 43,
    "start_time": "2024-11-10T18:40:54.119Z"
   },
   {
    "duration": 146,
    "start_time": "2024-11-10T18:40:54.164Z"
   },
   {
    "duration": 10,
    "start_time": "2024-11-10T18:40:54.311Z"
   },
   {
    "duration": 26,
    "start_time": "2024-11-10T18:40:54.322Z"
   },
   {
    "duration": 7,
    "start_time": "2024-11-10T18:40:54.350Z"
   },
   {
    "duration": 7,
    "start_time": "2024-11-10T18:40:54.358Z"
   },
   {
    "duration": 25,
    "start_time": "2024-11-10T18:40:54.367Z"
   },
   {
    "duration": 11,
    "start_time": "2024-11-10T18:40:54.393Z"
   }
  ],
  "kernelspec": {
   "display_name": "Python 3 (ipykernel)",
   "language": "python",
   "name": "python3"
  },
  "language_info": {
   "codemirror_mode": {
    "name": "ipython",
    "version": 3
   },
   "file_extension": ".py",
   "mimetype": "text/x-python",
   "name": "python",
   "nbconvert_exporter": "python",
   "pygments_lexer": "ipython3",
   "version": "3.11.5"
  },
  "toc": {
   "base_numbering": 1,
   "nav_menu": {
    "height": "533.767px",
    "width": "591.997px"
   },
   "number_sections": true,
   "sideBar": true,
   "skip_h1_title": true,
   "title_cell": "Table of Contents",
   "title_sidebar": "Contents",
   "toc_cell": false,
   "toc_position": {},
   "toc_section_display": true,
   "toc_window_display": false
  }
 },
 "nbformat": 4,
 "nbformat_minor": 2
}
